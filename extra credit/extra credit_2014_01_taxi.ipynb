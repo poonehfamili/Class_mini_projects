{
 "cells": [
  {
   "cell_type": "code",
   "execution_count": 1,
   "metadata": {
    "collapsed": true
   },
   "outputs": [],
   "source": [
    "%matplotlib inline\n",
    "import numpy as np\n",
    "import pandas as pd\n",
    "from pandas import DataFrame\n",
    "import statsmodels.api as sm\n",
    "import matplotlib.pylab as plt\n",
    "import pysal as ps\n",
    "import shapely\n",
    "from geopandas import GeoDataFrame\n",
    "from shapely.geometry import Point\n",
    "import os\n",
    "import geopandas as gpd"
   ]
  },
  {
   "cell_type": "code",
   "execution_count": 2,
   "metadata": {
    "collapsed": true
   },
   "outputs": [],
   "source": [
    "np.random.seed(123) # for reproducibility"
   ]
  },
  {
   "cell_type": "markdown",
   "metadata": {},
   "source": [
    "Loading Census Tract Shape File"
   ]
  },
  {
   "cell_type": "code",
   "execution_count": 3,
   "metadata": {
    "collapsed": true
   },
   "outputs": [],
   "source": [
    "\n",
    "shape_path=\"Data/CT_Shape/ct_shape.shp\"\n",
    "ct_shape = GeoDataFrame.from_file(shape_path)\n",
    "ct_shape.index=ct_shape.BoroCT2010"
   ]
  },
  {
   "cell_type": "markdown",
   "metadata": {},
   "source": [
    "Coordinate systems, projections, and transformations"
   ]
  },
  {
   "cell_type": "code",
   "execution_count": 5,
   "metadata": {
    "collapsed": false
   },
   "outputs": [
    {
     "name": "stdout",
     "output_type": "stream",
     "text": [
      "total NYC land area: 302.3 (mi^2)\n"
     ]
    }
   ],
   "source": [
    "from fiona.crs import from_epsg\n",
    "ct_shape.crs = from_epsg(4326) # epsg=4326: lat/on | 26918: NAD83/UTM zone 18N | epsg=2263 is US feet\n",
    "NYC_Area=ct_shape.to_crs(epsg=2263).geometry.area.sum()/(2.788*10**7) # from ft2 to mi2 \n",
    "print('total NYC land area: %s (mi^2)'%str(NYC_Area)[:5]) # from ft2 to mi2 #epsg=2263 is US feet"
   ]
  },
  {
   "cell_type": "markdown",
   "metadata": {},
   "source": [
    "Load Census Data for 2010"
   ]
  },
  {
   "cell_type": "code",
   "execution_count": 6,
   "metadata": {
    "collapsed": false
   },
   "outputs": [
    {
     "data": {
      "text/html": [
       "<div>\n",
       "<table border=\"1\" class=\"dataframe\">\n",
       "  <thead>\n",
       "    <tr style=\"text-align: right;\">\n",
       "      <th></th>\n",
       "      <th>BoroCT2010</th>\n",
       "      <th>Geo_NAME</th>\n",
       "      <th>Geo_QName</th>\n",
       "      <th>Geo_FIPS</th>\n",
       "      <th>Geo_SUMLEV</th>\n",
       "      <th>Geo_GEOCOMP</th>\n",
       "      <th>Geo_STATE</th>\n",
       "      <th>Geo_COUNTY</th>\n",
       "      <th>Geo_COUNTYSC</th>\n",
       "      <th>Geo_COUSUB</th>\n",
       "      <th>...</th>\n",
       "      <th>SE_T017_017</th>\n",
       "      <th>SE_T017_018</th>\n",
       "      <th>SE_T017_019</th>\n",
       "      <th>SE_T017_020</th>\n",
       "      <th>SE_T017_021</th>\n",
       "      <th>SE_T017_022</th>\n",
       "      <th>SE_T017_023</th>\n",
       "      <th>SE_T017_024</th>\n",
       "      <th>SE_T017A001</th>\n",
       "      <th>SE_T017A002</th>\n",
       "    </tr>\n",
       "    <tr>\n",
       "      <th>BoroCT2010</th>\n",
       "      <th></th>\n",
       "      <th></th>\n",
       "      <th></th>\n",
       "      <th></th>\n",
       "      <th></th>\n",
       "      <th></th>\n",
       "      <th></th>\n",
       "      <th></th>\n",
       "      <th></th>\n",
       "      <th></th>\n",
       "      <th></th>\n",
       "      <th></th>\n",
       "      <th></th>\n",
       "      <th></th>\n",
       "      <th></th>\n",
       "      <th></th>\n",
       "      <th></th>\n",
       "      <th></th>\n",
       "      <th></th>\n",
       "      <th></th>\n",
       "      <th></th>\n",
       "    </tr>\n",
       "  </thead>\n",
       "  <tbody>\n",
       "    <tr>\n",
       "      <th>5000900</th>\n",
       "      <td>5000900</td>\n",
       "      <td>Census Tract 9</td>\n",
       "      <td>Census Tract 9, Richmond County, New York</td>\n",
       "      <td>36085000900</td>\n",
       "      <td>140</td>\n",
       "      <td>0</td>\n",
       "      <td>36</td>\n",
       "      <td>85</td>\n",
       "      <td>19</td>\n",
       "      <td>NaN</td>\n",
       "      <td>...</td>\n",
       "      <td>32</td>\n",
       "      <td>23</td>\n",
       "      <td>13</td>\n",
       "      <td>12</td>\n",
       "      <td>10</td>\n",
       "      <td>12</td>\n",
       "      <td>11</td>\n",
       "      <td>7</td>\n",
       "      <td>746</td>\n",
       "      <td>50</td>\n",
       "    </tr>\n",
       "    <tr>\n",
       "      <th>5012500</th>\n",
       "      <td>5012500</td>\n",
       "      <td>Census Tract 125</td>\n",
       "      <td>Census Tract 125, Richmond County, New York</td>\n",
       "      <td>36085012500</td>\n",
       "      <td>140</td>\n",
       "      <td>0</td>\n",
       "      <td>36</td>\n",
       "      <td>85</td>\n",
       "      <td>19</td>\n",
       "      <td>NaN</td>\n",
       "      <td>...</td>\n",
       "      <td>50</td>\n",
       "      <td>50</td>\n",
       "      <td>28</td>\n",
       "      <td>33</td>\n",
       "      <td>36</td>\n",
       "      <td>32</td>\n",
       "      <td>42</td>\n",
       "      <td>20</td>\n",
       "      <td>1522</td>\n",
       "      <td>89</td>\n",
       "    </tr>\n",
       "    <tr>\n",
       "      <th>5013301</th>\n",
       "      <td>5013301</td>\n",
       "      <td>Census Tract 133.01</td>\n",
       "      <td>Census Tract 133.01, Richmond County, New York</td>\n",
       "      <td>36085013301</td>\n",
       "      <td>140</td>\n",
       "      <td>0</td>\n",
       "      <td>36</td>\n",
       "      <td>85</td>\n",
       "      <td>19</td>\n",
       "      <td>NaN</td>\n",
       "      <td>...</td>\n",
       "      <td>0</td>\n",
       "      <td>11</td>\n",
       "      <td>6</td>\n",
       "      <td>3</td>\n",
       "      <td>15</td>\n",
       "      <td>4</td>\n",
       "      <td>4</td>\n",
       "      <td>4</td>\n",
       "      <td>303</td>\n",
       "      <td>24</td>\n",
       "    </tr>\n",
       "    <tr>\n",
       "      <th>5019700</th>\n",
       "      <td>5019700</td>\n",
       "      <td>Census Tract 197</td>\n",
       "      <td>Census Tract 197, Richmond County, New York</td>\n",
       "      <td>36085019700</td>\n",
       "      <td>140</td>\n",
       "      <td>0</td>\n",
       "      <td>36</td>\n",
       "      <td>85</td>\n",
       "      <td>19</td>\n",
       "      <td>NaN</td>\n",
       "      <td>...</td>\n",
       "      <td>48</td>\n",
       "      <td>56</td>\n",
       "      <td>36</td>\n",
       "      <td>50</td>\n",
       "      <td>54</td>\n",
       "      <td>32</td>\n",
       "      <td>44</td>\n",
       "      <td>36</td>\n",
       "      <td>1672</td>\n",
       "      <td>97</td>\n",
       "    </tr>\n",
       "    <tr>\n",
       "      <th>5002002</th>\n",
       "      <td>5002002</td>\n",
       "      <td>Census Tract 20.02</td>\n",
       "      <td>Census Tract 20.02, Richmond County, New York</td>\n",
       "      <td>36085002002</td>\n",
       "      <td>140</td>\n",
       "      <td>0</td>\n",
       "      <td>36</td>\n",
       "      <td>85</td>\n",
       "      <td>19</td>\n",
       "      <td>NaN</td>\n",
       "      <td>...</td>\n",
       "      <td>73</td>\n",
       "      <td>126</td>\n",
       "      <td>53</td>\n",
       "      <td>73</td>\n",
       "      <td>114</td>\n",
       "      <td>83</td>\n",
       "      <td>63</td>\n",
       "      <td>63</td>\n",
       "      <td>2562</td>\n",
       "      <td>104</td>\n",
       "    </tr>\n",
       "  </tbody>\n",
       "</table>\n",
       "<p>5 rows × 257 columns</p>\n",
       "</div>"
      ],
      "text/plain": [
       "            BoroCT2010             Geo_NAME  \\\n",
       "BoroCT2010                                    \n",
       "5000900        5000900       Census Tract 9   \n",
       "5012500        5012500     Census Tract 125   \n",
       "5013301        5013301  Census Tract 133.01   \n",
       "5019700        5019700     Census Tract 197   \n",
       "5002002        5002002   Census Tract 20.02   \n",
       "\n",
       "                                                 Geo_QName     Geo_FIPS  \\\n",
       "BoroCT2010                                                                \n",
       "5000900          Census Tract 9, Richmond County, New York  36085000900   \n",
       "5012500        Census Tract 125, Richmond County, New York  36085012500   \n",
       "5013301     Census Tract 133.01, Richmond County, New York  36085013301   \n",
       "5019700        Census Tract 197, Richmond County, New York  36085019700   \n",
       "5002002      Census Tract 20.02, Richmond County, New York  36085002002   \n",
       "\n",
       "            Geo_SUMLEV  Geo_GEOCOMP  Geo_STATE  Geo_COUNTY  Geo_COUNTYSC  \\\n",
       "BoroCT2010                                                                 \n",
       "5000900            140            0         36          85            19   \n",
       "5012500            140            0         36          85            19   \n",
       "5013301            140            0         36          85            19   \n",
       "5019700            140            0         36          85            19   \n",
       "5002002            140            0         36          85            19   \n",
       "\n",
       "            Geo_COUSUB     ...       SE_T017_017  SE_T017_018  SE_T017_019  \\\n",
       "BoroCT2010                 ...                                               \n",
       "5000900            NaN     ...                32           23           13   \n",
       "5012500            NaN     ...                50           50           28   \n",
       "5013301            NaN     ...                 0           11            6   \n",
       "5019700            NaN     ...                48           56           36   \n",
       "5002002            NaN     ...                73          126           53   \n",
       "\n",
       "            SE_T017_020  SE_T017_021  SE_T017_022  SE_T017_023  SE_T017_024  \\\n",
       "BoroCT2010                                                                    \n",
       "5000900              12           10           12           11            7   \n",
       "5012500              33           36           32           42           20   \n",
       "5013301               3           15            4            4            4   \n",
       "5019700              50           54           32           44           36   \n",
       "5002002              73          114           83           63           63   \n",
       "\n",
       "            SE_T017A001  SE_T017A002  \n",
       "BoroCT2010                            \n",
       "5000900             746           50  \n",
       "5012500            1522           89  \n",
       "5013301             303           24  \n",
       "5019700            1672           97  \n",
       "5002002            2562          104  \n",
       "\n",
       "[5 rows x 257 columns]"
      ]
     },
     "execution_count": 6,
     "metadata": {},
     "output_type": "execute_result"
    }
   ],
   "source": [
    "ct_data=DataFrame.from_csv('Data/ACS_CT2010.csv')\n",
    "#set index to be the BoroCT2010 code\n",
    "ct_data.index=ct_data.BoroCT2010.astype(str)\n",
    "ct_data.head()"
   ]
  },
  {
   "cell_type": "markdown",
   "metadata": {},
   "source": [
    "Load Yellow Cab data on 2014-01"
   ]
  },
  {
   "cell_type": "raw",
   "metadata": {
    "collapsed": false
   },
   "source": [
    "taxi_data_2014_1=DataFrame.from_csv('https://s3.amazonaws.com/nyc-tlc/trip+data/yellow_tripdata_2014-01.csv')"
   ]
  },
  {
   "cell_type": "code",
   "execution_count": 8,
   "metadata": {
    "collapsed": false
   },
   "outputs": [
    {
     "data": {
      "text/plain": [
       "Index([u' pickup_datetime', u' dropoff_datetime', u' passenger_count',\n",
       "       u' trip_distance', u' pickup_longitude', u' pickup_latitude',\n",
       "       u' rate_code', u' store_and_fwd_flag', u' dropoff_longitude',\n",
       "       u' dropoff_latitude', u' payment_type', u' fare_amount', u' surcharge',\n",
       "       u' mta_tax', u' tip_amount', u' tolls_amount', u' total_amount'],\n",
       "      dtype='object')"
      ]
     },
     "execution_count": 8,
     "metadata": {},
     "output_type": "execute_result"
    }
   ],
   "source": [
    "taxi_data_2014_1.columns"
   ]
  },
  {
   "cell_type": "code",
   "execution_count": 9,
   "metadata": {
    "collapsed": false
   },
   "outputs": [
    {
     "data": {
      "text/plain": [
       "4"
      ]
     },
     "execution_count": 9,
     "metadata": {},
     "output_type": "execute_result"
    }
   ],
   "source": [
    "2+2"
   ]
  },
  {
   "cell_type": "code",
   "execution_count": 10,
   "metadata": {
    "collapsed": false
   },
   "outputs": [],
   "source": [
    "#taxi_new_2014_1 = pd.DataFrame(columns = ' pickup_longitude', ' pickup_latitude')\n",
    "taxi_new_2014_1 = taxi_data_2014_1.ix[:,0:6]"
   ]
  },
  {
   "cell_type": "code",
   "execution_count": 11,
   "metadata": {
    "collapsed": false
   },
   "outputs": [
    {
     "data": {
      "text/html": [
       "<div>\n",
       "<table border=\"1\" class=\"dataframe\">\n",
       "  <thead>\n",
       "    <tr style=\"text-align: right;\">\n",
       "      <th></th>\n",
       "      <th>pickup_datetime</th>\n",
       "      <th>dropoff_datetime</th>\n",
       "      <th>passenger_count</th>\n",
       "      <th>trip_distance</th>\n",
       "      <th>pickup_longitude</th>\n",
       "      <th>pickup_latitude</th>\n",
       "    </tr>\n",
       "    <tr>\n",
       "      <th>vendor_id</th>\n",
       "      <th></th>\n",
       "      <th></th>\n",
       "      <th></th>\n",
       "      <th></th>\n",
       "      <th></th>\n",
       "      <th></th>\n",
       "    </tr>\n",
       "  </thead>\n",
       "  <tbody>\n",
       "    <tr>\n",
       "      <th>CMT</th>\n",
       "      <td>2014-01-09 20:45:25</td>\n",
       "      <td>2014-01-09 20:52:31</td>\n",
       "      <td>1</td>\n",
       "      <td>0.7</td>\n",
       "      <td>-73.994770</td>\n",
       "      <td>40.736828</td>\n",
       "    </tr>\n",
       "    <tr>\n",
       "      <th>CMT</th>\n",
       "      <td>2014-01-09 20:46:12</td>\n",
       "      <td>2014-01-09 20:55:12</td>\n",
       "      <td>1</td>\n",
       "      <td>1.4</td>\n",
       "      <td>-73.982392</td>\n",
       "      <td>40.773382</td>\n",
       "    </tr>\n",
       "    <tr>\n",
       "      <th>CMT</th>\n",
       "      <td>2014-01-09 20:44:47</td>\n",
       "      <td>2014-01-09 20:59:46</td>\n",
       "      <td>2</td>\n",
       "      <td>2.3</td>\n",
       "      <td>-73.988570</td>\n",
       "      <td>40.739406</td>\n",
       "    </tr>\n",
       "    <tr>\n",
       "      <th>CMT</th>\n",
       "      <td>2014-01-09 20:44:57</td>\n",
       "      <td>2014-01-09 20:51:40</td>\n",
       "      <td>1</td>\n",
       "      <td>1.7</td>\n",
       "      <td>-73.960213</td>\n",
       "      <td>40.770464</td>\n",
       "    </tr>\n",
       "    <tr>\n",
       "      <th>CMT</th>\n",
       "      <td>2014-01-09 20:47:09</td>\n",
       "      <td>2014-01-09 20:53:32</td>\n",
       "      <td>1</td>\n",
       "      <td>0.9</td>\n",
       "      <td>-73.995371</td>\n",
       "      <td>40.717248</td>\n",
       "    </tr>\n",
       "  </tbody>\n",
       "</table>\n",
       "</div>"
      ],
      "text/plain": [
       "               pickup_datetime     dropoff_datetime   passenger_count  \\\n",
       "vendor_id                                                               \n",
       "CMT        2014-01-09 20:45:25  2014-01-09 20:52:31                 1   \n",
       "CMT        2014-01-09 20:46:12  2014-01-09 20:55:12                 1   \n",
       "CMT        2014-01-09 20:44:47  2014-01-09 20:59:46                 2   \n",
       "CMT        2014-01-09 20:44:57  2014-01-09 20:51:40                 1   \n",
       "CMT        2014-01-09 20:47:09  2014-01-09 20:53:32                 1   \n",
       "\n",
       "            trip_distance   pickup_longitude   pickup_latitude  \n",
       "vendor_id                                                       \n",
       "CMT                   0.7         -73.994770         40.736828  \n",
       "CMT                   1.4         -73.982392         40.773382  \n",
       "CMT                   2.3         -73.988570         40.739406  \n",
       "CMT                   1.7         -73.960213         40.770464  \n",
       "CMT                   0.9         -73.995371         40.717248  "
      ]
     },
     "execution_count": 11,
     "metadata": {},
     "output_type": "execute_result"
    }
   ],
   "source": [
    "taxi_new_2014_1.head()"
   ]
  },
  {
   "cell_type": "code",
   "execution_count": 12,
   "metadata": {
    "collapsed": false
   },
   "outputs": [
    {
     "data": {
      "text/plain": [
       "(13782492, 6)"
      ]
     },
     "execution_count": 12,
     "metadata": {},
     "output_type": "execute_result"
    }
   ],
   "source": [
    "taxi_new_2014_1.shape\n"
   ]
  },
  {
   "cell_type": "code",
   "execution_count": 13,
   "metadata": {
    "collapsed": false
   },
   "outputs": [],
   "source": [
    "taxi_new_2014_1.index = range(0, 13782492, 1)#reindexing"
   ]
  },
  {
   "cell_type": "code",
   "execution_count": 14,
   "metadata": {
    "collapsed": false
   },
   "outputs": [
    {
     "data": {
      "text/html": [
       "<div>\n",
       "<table border=\"1\" class=\"dataframe\">\n",
       "  <thead>\n",
       "    <tr style=\"text-align: right;\">\n",
       "      <th></th>\n",
       "      <th>pickup_datetime</th>\n",
       "      <th>dropoff_datetime</th>\n",
       "      <th>passenger_count</th>\n",
       "      <th>trip_distance</th>\n",
       "      <th>pickup_longitude</th>\n",
       "      <th>pickup_latitude</th>\n",
       "    </tr>\n",
       "  </thead>\n",
       "  <tbody>\n",
       "    <tr>\n",
       "      <th>0</th>\n",
       "      <td>2014-01-09 20:45:25</td>\n",
       "      <td>2014-01-09 20:52:31</td>\n",
       "      <td>1</td>\n",
       "      <td>0.7</td>\n",
       "      <td>-73.994770</td>\n",
       "      <td>40.736828</td>\n",
       "    </tr>\n",
       "    <tr>\n",
       "      <th>1</th>\n",
       "      <td>2014-01-09 20:46:12</td>\n",
       "      <td>2014-01-09 20:55:12</td>\n",
       "      <td>1</td>\n",
       "      <td>1.4</td>\n",
       "      <td>-73.982392</td>\n",
       "      <td>40.773382</td>\n",
       "    </tr>\n",
       "    <tr>\n",
       "      <th>2</th>\n",
       "      <td>2014-01-09 20:44:47</td>\n",
       "      <td>2014-01-09 20:59:46</td>\n",
       "      <td>2</td>\n",
       "      <td>2.3</td>\n",
       "      <td>-73.988570</td>\n",
       "      <td>40.739406</td>\n",
       "    </tr>\n",
       "    <tr>\n",
       "      <th>3</th>\n",
       "      <td>2014-01-09 20:44:57</td>\n",
       "      <td>2014-01-09 20:51:40</td>\n",
       "      <td>1</td>\n",
       "      <td>1.7</td>\n",
       "      <td>-73.960213</td>\n",
       "      <td>40.770464</td>\n",
       "    </tr>\n",
       "    <tr>\n",
       "      <th>4</th>\n",
       "      <td>2014-01-09 20:47:09</td>\n",
       "      <td>2014-01-09 20:53:32</td>\n",
       "      <td>1</td>\n",
       "      <td>0.9</td>\n",
       "      <td>-73.995371</td>\n",
       "      <td>40.717248</td>\n",
       "    </tr>\n",
       "  </tbody>\n",
       "</table>\n",
       "</div>"
      ],
      "text/plain": [
       "       pickup_datetime     dropoff_datetime   passenger_count   trip_distance  \\\n",
       "0  2014-01-09 20:45:25  2014-01-09 20:52:31                 1             0.7   \n",
       "1  2014-01-09 20:46:12  2014-01-09 20:55:12                 1             1.4   \n",
       "2  2014-01-09 20:44:47  2014-01-09 20:59:46                 2             2.3   \n",
       "3  2014-01-09 20:44:57  2014-01-09 20:51:40                 1             1.7   \n",
       "4  2014-01-09 20:47:09  2014-01-09 20:53:32                 1             0.9   \n",
       "\n",
       "    pickup_longitude   pickup_latitude  \n",
       "0         -73.994770         40.736828  \n",
       "1         -73.982392         40.773382  \n",
       "2         -73.988570         40.739406  \n",
       "3         -73.960213         40.770464  \n",
       "4         -73.995371         40.717248  "
      ]
     },
     "execution_count": 14,
     "metadata": {},
     "output_type": "execute_result"
    }
   ],
   "source": [
    "taxi_new_2014_1.head()"
   ]
  },
  {
   "cell_type": "code",
   "execution_count": 15,
   "metadata": {
    "collapsed": false
   },
   "outputs": [
    {
     "data": {
      "text/plain": [
       "pandas.core.frame.DataFrame"
      ]
     },
     "execution_count": 15,
     "metadata": {},
     "output_type": "execute_result"
    }
   ],
   "source": [
    "type(taxi_new_2014_1)"
   ]
  },
  {
   "cell_type": "code",
   "execution_count": 16,
   "metadata": {
    "collapsed": false
   },
   "outputs": [],
   "source": [
    "# for reproducibility\n",
    "np.random.seed(3000) \n",
    "#pick 5000 randomly from dataset by selecting random number as index\n",
    "rand = np.random.choice(taxi_new_2014_1.index, 20000, replace=False)"
   ]
  },
  {
   "cell_type": "code",
   "execution_count": 17,
   "metadata": {
    "collapsed": false
   },
   "outputs": [
    {
     "data": {
      "text/plain": [
       "array([ 9505211,  3420068,   935697, ...,  8165320, 11795993, 10938451])"
      ]
     },
     "execution_count": 17,
     "metadata": {},
     "output_type": "execute_result"
    }
   ],
   "source": [
    "rand"
   ]
  },
  {
   "cell_type": "code",
   "execution_count": 18,
   "metadata": {
    "collapsed": false
   },
   "outputs": [],
   "source": [
    "taxi_new_2014_1_rand = taxi_new_2014_1.iloc[rand,:]"
   ]
  },
  {
   "cell_type": "code",
   "execution_count": 19,
   "metadata": {
    "collapsed": false
   },
   "outputs": [
    {
     "data": {
      "text/html": [
       "<div>\n",
       "<table border=\"1\" class=\"dataframe\">\n",
       "  <thead>\n",
       "    <tr style=\"text-align: right;\">\n",
       "      <th></th>\n",
       "      <th>pickup_datetime</th>\n",
       "      <th>dropoff_datetime</th>\n",
       "      <th>passenger_count</th>\n",
       "      <th>trip_distance</th>\n",
       "      <th>pickup_longitude</th>\n",
       "      <th>pickup_latitude</th>\n",
       "    </tr>\n",
       "  </thead>\n",
       "  <tbody>\n",
       "    <tr>\n",
       "      <th>9505211</th>\n",
       "      <td>2014-01-12 18:13:00</td>\n",
       "      <td>2014-01-12 18:18:00</td>\n",
       "      <td>2</td>\n",
       "      <td>1.01</td>\n",
       "      <td>-73.963422</td>\n",
       "      <td>40.808540</td>\n",
       "    </tr>\n",
       "    <tr>\n",
       "      <th>3420068</th>\n",
       "      <td>2014-01-28 20:19:00</td>\n",
       "      <td>2014-01-28 20:25:00</td>\n",
       "      <td>1</td>\n",
       "      <td>1.19</td>\n",
       "      <td>-73.976397</td>\n",
       "      <td>40.779755</td>\n",
       "    </tr>\n",
       "    <tr>\n",
       "      <th>935697</th>\n",
       "      <td>2014-01-11 01:18:36</td>\n",
       "      <td>2014-01-11 01:29:29</td>\n",
       "      <td>1</td>\n",
       "      <td>2.40</td>\n",
       "      <td>-73.992260</td>\n",
       "      <td>40.749008</td>\n",
       "    </tr>\n",
       "    <tr>\n",
       "      <th>577098</th>\n",
       "      <td>2014-01-07 18:33:15</td>\n",
       "      <td>2014-01-07 18:40:17</td>\n",
       "      <td>1</td>\n",
       "      <td>0.90</td>\n",
       "      <td>-73.971141</td>\n",
       "      <td>40.760348</td>\n",
       "    </tr>\n",
       "    <tr>\n",
       "      <th>1926084</th>\n",
       "      <td>2014-01-21 09:19:00</td>\n",
       "      <td>2014-01-21 09:37:00</td>\n",
       "      <td>1</td>\n",
       "      <td>2.02</td>\n",
       "      <td>-73.967750</td>\n",
       "      <td>40.765607</td>\n",
       "    </tr>\n",
       "  </tbody>\n",
       "</table>\n",
       "</div>"
      ],
      "text/plain": [
       "             pickup_datetime     dropoff_datetime   passenger_count  \\\n",
       "9505211  2014-01-12 18:13:00  2014-01-12 18:18:00                 2   \n",
       "3420068  2014-01-28 20:19:00  2014-01-28 20:25:00                 1   \n",
       "935697   2014-01-11 01:18:36  2014-01-11 01:29:29                 1   \n",
       "577098   2014-01-07 18:33:15  2014-01-07 18:40:17                 1   \n",
       "1926084  2014-01-21 09:19:00  2014-01-21 09:37:00                 1   \n",
       "\n",
       "          trip_distance   pickup_longitude   pickup_latitude  \n",
       "9505211            1.01         -73.963422         40.808540  \n",
       "3420068            1.19         -73.976397         40.779755  \n",
       "935697             2.40         -73.992260         40.749008  \n",
       "577098             0.90         -73.971141         40.760348  \n",
       "1926084            2.02         -73.967750         40.765607  "
      ]
     },
     "execution_count": 19,
     "metadata": {},
     "output_type": "execute_result"
    }
   ],
   "source": [
    "taxi_new_2014_1_rand.head()"
   ]
  },
  {
   "cell_type": "code",
   "execution_count": 20,
   "metadata": {
    "collapsed": false
   },
   "outputs": [],
   "source": [
    "z_obj = zip(taxi_new_2014_1_rand[' pickup_longitude'],taxi_new_2014_1_rand[' pickup_latitude'])#join lat and lon"
   ]
  },
  {
   "cell_type": "code",
   "execution_count": 21,
   "metadata": {
    "collapsed": false
   },
   "outputs": [
    {
     "name": "stderr",
     "output_type": "stream",
     "text": [
      "/opt/rh/anaconda/root/envs/PUI2016_Python2/lib/python2.7/site-packages/ipykernel/__main__.py:1: SettingWithCopyWarning: \n",
      "A value is trying to be set on a copy of a slice from a DataFrame.\n",
      "Try using .loc[row_indexer,col_indexer] = value instead\n",
      "\n",
      "See the caveats in the documentation: http://pandas.pydata.org/pandas-docs/stable/indexing.html#indexing-view-versus-copy\n",
      "  if __name__ == '__main__':\n"
     ]
    }
   ],
   "source": [
    "taxi_new_2014_1_rand['lonlat'] = list(z_obj)"
   ]
  },
  {
   "cell_type": "code",
   "execution_count": 22,
   "metadata": {
    "collapsed": false
   },
   "outputs": [
    {
     "data": {
      "text/plain": [
       "(19712,)"
      ]
     },
     "execution_count": 22,
     "metadata": {},
     "output_type": "execute_result"
    }
   ],
   "source": [
    "taxi_new_2014_1_rand['lonlat'].unique().shape"
   ]
  },
  {
   "cell_type": "code",
   "execution_count": 23,
   "metadata": {
    "collapsed": false
   },
   "outputs": [
    {
     "data": {
      "text/html": [
       "<div>\n",
       "<table border=\"1\" class=\"dataframe\">\n",
       "  <thead>\n",
       "    <tr style=\"text-align: right;\">\n",
       "      <th></th>\n",
       "      <th>pickup_datetime</th>\n",
       "      <th>dropoff_datetime</th>\n",
       "      <th>passenger_count</th>\n",
       "      <th>trip_distance</th>\n",
       "      <th>pickup_longitude</th>\n",
       "      <th>pickup_latitude</th>\n",
       "      <th>lonlat</th>\n",
       "    </tr>\n",
       "  </thead>\n",
       "  <tbody>\n",
       "    <tr>\n",
       "      <th>9505211</th>\n",
       "      <td>2014-01-12 18:13:00</td>\n",
       "      <td>2014-01-12 18:18:00</td>\n",
       "      <td>2</td>\n",
       "      <td>1.01</td>\n",
       "      <td>-73.963422</td>\n",
       "      <td>40.808540</td>\n",
       "      <td>(-73.963422, 40.80854)</td>\n",
       "    </tr>\n",
       "    <tr>\n",
       "      <th>3420068</th>\n",
       "      <td>2014-01-28 20:19:00</td>\n",
       "      <td>2014-01-28 20:25:00</td>\n",
       "      <td>1</td>\n",
       "      <td>1.19</td>\n",
       "      <td>-73.976397</td>\n",
       "      <td>40.779755</td>\n",
       "      <td>(-73.976397, 40.779755)</td>\n",
       "    </tr>\n",
       "    <tr>\n",
       "      <th>935697</th>\n",
       "      <td>2014-01-11 01:18:36</td>\n",
       "      <td>2014-01-11 01:29:29</td>\n",
       "      <td>1</td>\n",
       "      <td>2.40</td>\n",
       "      <td>-73.992260</td>\n",
       "      <td>40.749008</td>\n",
       "      <td>(-73.99226, 40.749008)</td>\n",
       "    </tr>\n",
       "    <tr>\n",
       "      <th>577098</th>\n",
       "      <td>2014-01-07 18:33:15</td>\n",
       "      <td>2014-01-07 18:40:17</td>\n",
       "      <td>1</td>\n",
       "      <td>0.90</td>\n",
       "      <td>-73.971141</td>\n",
       "      <td>40.760348</td>\n",
       "      <td>(-73.971141, 40.760348)</td>\n",
       "    </tr>\n",
       "    <tr>\n",
       "      <th>1926084</th>\n",
       "      <td>2014-01-21 09:19:00</td>\n",
       "      <td>2014-01-21 09:37:00</td>\n",
       "      <td>1</td>\n",
       "      <td>2.02</td>\n",
       "      <td>-73.967750</td>\n",
       "      <td>40.765607</td>\n",
       "      <td>(-73.96775, 40.765607)</td>\n",
       "    </tr>\n",
       "  </tbody>\n",
       "</table>\n",
       "</div>"
      ],
      "text/plain": [
       "             pickup_datetime     dropoff_datetime   passenger_count  \\\n",
       "9505211  2014-01-12 18:13:00  2014-01-12 18:18:00                 2   \n",
       "3420068  2014-01-28 20:19:00  2014-01-28 20:25:00                 1   \n",
       "935697   2014-01-11 01:18:36  2014-01-11 01:29:29                 1   \n",
       "577098   2014-01-07 18:33:15  2014-01-07 18:40:17                 1   \n",
       "1926084  2014-01-21 09:19:00  2014-01-21 09:37:00                 1   \n",
       "\n",
       "          trip_distance   pickup_longitude   pickup_latitude  \\\n",
       "9505211            1.01         -73.963422         40.808540   \n",
       "3420068            1.19         -73.976397         40.779755   \n",
       "935697             2.40         -73.992260         40.749008   \n",
       "577098             0.90         -73.971141         40.760348   \n",
       "1926084            2.02         -73.967750         40.765607   \n",
       "\n",
       "                          lonlat  \n",
       "9505211   (-73.963422, 40.80854)  \n",
       "3420068  (-73.976397, 40.779755)  \n",
       "935697    (-73.99226, 40.749008)  \n",
       "577098   (-73.971141, 40.760348)  \n",
       "1926084   (-73.96775, 40.765607)  "
      ]
     },
     "execution_count": 23,
     "metadata": {},
     "output_type": "execute_result"
    }
   ],
   "source": [
    "taxi_new_2014_1_rand.head()"
   ]
  },
  {
   "cell_type": "code",
   "execution_count": 24,
   "metadata": {
    "collapsed": false
   },
   "outputs": [
    {
     "name": "stderr",
     "output_type": "stream",
     "text": [
      "/opt/rh/anaconda/root/envs/PUI2016_Python2/lib/python2.7/site-packages/ipykernel/__main__.py:1: SettingWithCopyWarning: \n",
      "A value is trying to be set on a copy of a slice from a DataFrame.\n",
      "Try using .loc[row_indexer,col_indexer] = value instead\n",
      "\n",
      "See the caveats in the documentation: http://pandas.pydata.org/pandas-docs/stable/indexing.html#indexing-view-versus-copy\n",
      "  if __name__ == '__main__':\n"
     ]
    },
    {
     "data": {
      "text/html": [
       "<div>\n",
       "<table border=\"1\" class=\"dataframe\">\n",
       "  <thead>\n",
       "    <tr style=\"text-align: right;\">\n",
       "      <th></th>\n",
       "      <th>pickup_datetime</th>\n",
       "      <th>dropoff_datetime</th>\n",
       "      <th>passenger_count</th>\n",
       "      <th>trip_distance</th>\n",
       "      <th>pickup_longitude</th>\n",
       "      <th>pickup_latitude</th>\n",
       "      <th>lonlat</th>\n",
       "      <th>geometry</th>\n",
       "    </tr>\n",
       "  </thead>\n",
       "  <tbody>\n",
       "    <tr>\n",
       "      <th>9505211</th>\n",
       "      <td>2014-01-12 18:13:00</td>\n",
       "      <td>2014-01-12 18:18:00</td>\n",
       "      <td>2</td>\n",
       "      <td>1.01</td>\n",
       "      <td>-73.963422</td>\n",
       "      <td>40.808540</td>\n",
       "      <td>(-73.963422, 40.80854)</td>\n",
       "      <td>POINT (-73.96342199999998 40.80854)</td>\n",
       "    </tr>\n",
       "    <tr>\n",
       "      <th>3420068</th>\n",
       "      <td>2014-01-28 20:19:00</td>\n",
       "      <td>2014-01-28 20:25:00</td>\n",
       "      <td>1</td>\n",
       "      <td>1.19</td>\n",
       "      <td>-73.976397</td>\n",
       "      <td>40.779755</td>\n",
       "      <td>(-73.976397, 40.779755)</td>\n",
       "      <td>POINT (-73.97639700000001 40.779755)</td>\n",
       "    </tr>\n",
       "    <tr>\n",
       "      <th>935697</th>\n",
       "      <td>2014-01-11 01:18:36</td>\n",
       "      <td>2014-01-11 01:29:29</td>\n",
       "      <td>1</td>\n",
       "      <td>2.40</td>\n",
       "      <td>-73.992260</td>\n",
       "      <td>40.749008</td>\n",
       "      <td>(-73.99226, 40.749008)</td>\n",
       "      <td>POINT (-73.99226 40.749008)</td>\n",
       "    </tr>\n",
       "    <tr>\n",
       "      <th>577098</th>\n",
       "      <td>2014-01-07 18:33:15</td>\n",
       "      <td>2014-01-07 18:40:17</td>\n",
       "      <td>1</td>\n",
       "      <td>0.90</td>\n",
       "      <td>-73.971141</td>\n",
       "      <td>40.760348</td>\n",
       "      <td>(-73.971141, 40.760348)</td>\n",
       "      <td>POINT (-73.971141 40.760348)</td>\n",
       "    </tr>\n",
       "    <tr>\n",
       "      <th>1926084</th>\n",
       "      <td>2014-01-21 09:19:00</td>\n",
       "      <td>2014-01-21 09:37:00</td>\n",
       "      <td>1</td>\n",
       "      <td>2.02</td>\n",
       "      <td>-73.967750</td>\n",
       "      <td>40.765607</td>\n",
       "      <td>(-73.96775, 40.765607)</td>\n",
       "      <td>POINT (-73.96774999999998 40.765607)</td>\n",
       "    </tr>\n",
       "  </tbody>\n",
       "</table>\n",
       "</div>"
      ],
      "text/plain": [
       "             pickup_datetime     dropoff_datetime   passenger_count  \\\n",
       "9505211  2014-01-12 18:13:00  2014-01-12 18:18:00                 2   \n",
       "3420068  2014-01-28 20:19:00  2014-01-28 20:25:00                 1   \n",
       "935697   2014-01-11 01:18:36  2014-01-11 01:29:29                 1   \n",
       "577098   2014-01-07 18:33:15  2014-01-07 18:40:17                 1   \n",
       "1926084  2014-01-21 09:19:00  2014-01-21 09:37:00                 1   \n",
       "\n",
       "          trip_distance   pickup_longitude   pickup_latitude  \\\n",
       "9505211            1.01         -73.963422         40.808540   \n",
       "3420068            1.19         -73.976397         40.779755   \n",
       "935697             2.40         -73.992260         40.749008   \n",
       "577098             0.90         -73.971141         40.760348   \n",
       "1926084            2.02         -73.967750         40.765607   \n",
       "\n",
       "                          lonlat                              geometry  \n",
       "9505211   (-73.963422, 40.80854)   POINT (-73.96342199999998 40.80854)  \n",
       "3420068  (-73.976397, 40.779755)  POINT (-73.97639700000001 40.779755)  \n",
       "935697    (-73.99226, 40.749008)           POINT (-73.99226 40.749008)  \n",
       "577098   (-73.971141, 40.760348)          POINT (-73.971141 40.760348)  \n",
       "1926084   (-73.96775, 40.765607)  POINT (-73.96774999999998 40.765607)  "
      ]
     },
     "execution_count": 24,
     "metadata": {},
     "output_type": "execute_result"
    }
   ],
   "source": [
    "taxi_new_2014_1_rand['geometry'] = taxi_new_2014_1_rand[['lonlat']].applymap(lambda x:shapely.geometry.Point(x))#create point\n",
    "taxi_new_2014_1_rand.head()"
   ]
  },
  {
   "cell_type": "code",
   "execution_count": 25,
   "metadata": {
    "collapsed": false
   },
   "outputs": [
    {
     "data": {
      "text/html": [
       "<div>\n",
       "<table border=\"1\" class=\"dataframe\">\n",
       "  <thead>\n",
       "    <tr style=\"text-align: right;\">\n",
       "      <th></th>\n",
       "      <th>pickup_datetime</th>\n",
       "      <th>dropoff_datetime</th>\n",
       "      <th>passenger_count</th>\n",
       "      <th>trip_distance</th>\n",
       "      <th>pickup_longitude</th>\n",
       "      <th>pickup_latitude</th>\n",
       "      <th>lonlat</th>\n",
       "      <th>geometry</th>\n",
       "    </tr>\n",
       "  </thead>\n",
       "  <tbody>\n",
       "    <tr>\n",
       "      <th>0</th>\n",
       "      <td>2014-01-12 18:13:00</td>\n",
       "      <td>2014-01-12 18:18:00</td>\n",
       "      <td>2</td>\n",
       "      <td>1.01</td>\n",
       "      <td>-73.963422</td>\n",
       "      <td>40.808540</td>\n",
       "      <td>(-73.963422, 40.80854)</td>\n",
       "      <td>POINT (-73.96342199999998 40.80854)</td>\n",
       "    </tr>\n",
       "    <tr>\n",
       "      <th>1</th>\n",
       "      <td>2014-01-28 20:19:00</td>\n",
       "      <td>2014-01-28 20:25:00</td>\n",
       "      <td>1</td>\n",
       "      <td>1.19</td>\n",
       "      <td>-73.976397</td>\n",
       "      <td>40.779755</td>\n",
       "      <td>(-73.976397, 40.779755)</td>\n",
       "      <td>POINT (-73.97639700000001 40.779755)</td>\n",
       "    </tr>\n",
       "    <tr>\n",
       "      <th>2</th>\n",
       "      <td>2014-01-11 01:18:36</td>\n",
       "      <td>2014-01-11 01:29:29</td>\n",
       "      <td>1</td>\n",
       "      <td>2.40</td>\n",
       "      <td>-73.992260</td>\n",
       "      <td>40.749008</td>\n",
       "      <td>(-73.99226, 40.749008)</td>\n",
       "      <td>POINT (-73.99226 40.749008)</td>\n",
       "    </tr>\n",
       "    <tr>\n",
       "      <th>3</th>\n",
       "      <td>2014-01-07 18:33:15</td>\n",
       "      <td>2014-01-07 18:40:17</td>\n",
       "      <td>1</td>\n",
       "      <td>0.90</td>\n",
       "      <td>-73.971141</td>\n",
       "      <td>40.760348</td>\n",
       "      <td>(-73.971141, 40.760348)</td>\n",
       "      <td>POINT (-73.971141 40.760348)</td>\n",
       "    </tr>\n",
       "    <tr>\n",
       "      <th>4</th>\n",
       "      <td>2014-01-21 09:19:00</td>\n",
       "      <td>2014-01-21 09:37:00</td>\n",
       "      <td>1</td>\n",
       "      <td>2.02</td>\n",
       "      <td>-73.967750</td>\n",
       "      <td>40.765607</td>\n",
       "      <td>(-73.96775, 40.765607)</td>\n",
       "      <td>POINT (-73.96774999999998 40.765607)</td>\n",
       "    </tr>\n",
       "  </tbody>\n",
       "</table>\n",
       "</div>"
      ],
      "text/plain": [
       "       pickup_datetime     dropoff_datetime   passenger_count   trip_distance  \\\n",
       "0  2014-01-12 18:13:00  2014-01-12 18:18:00                 2            1.01   \n",
       "1  2014-01-28 20:19:00  2014-01-28 20:25:00                 1            1.19   \n",
       "2  2014-01-11 01:18:36  2014-01-11 01:29:29                 1            2.40   \n",
       "3  2014-01-07 18:33:15  2014-01-07 18:40:17                 1            0.90   \n",
       "4  2014-01-21 09:19:00  2014-01-21 09:37:00                 1            2.02   \n",
       "\n",
       "    pickup_longitude   pickup_latitude                   lonlat  \\\n",
       "0         -73.963422         40.808540   (-73.963422, 40.80854)   \n",
       "1         -73.976397         40.779755  (-73.976397, 40.779755)   \n",
       "2         -73.992260         40.749008   (-73.99226, 40.749008)   \n",
       "3         -73.971141         40.760348  (-73.971141, 40.760348)   \n",
       "4         -73.967750         40.765607   (-73.96775, 40.765607)   \n",
       "\n",
       "                               geometry  \n",
       "0   POINT (-73.96342199999998 40.80854)  \n",
       "1  POINT (-73.97639700000001 40.779755)  \n",
       "2           POINT (-73.99226 40.749008)  \n",
       "3          POINT (-73.971141 40.760348)  \n",
       "4  POINT (-73.96774999999998 40.765607)  "
      ]
     },
     "execution_count": 25,
     "metadata": {},
     "output_type": "execute_result"
    }
   ],
   "source": [
    "taxi_new_2014_1_rand.index = range(0, 20000, 1)#reindexing\n",
    "taxi_new_2014_1_rand.head()"
   ]
  },
  {
   "cell_type": "code",
   "execution_count": 26,
   "metadata": {
    "collapsed": false
   },
   "outputs": [],
   "source": [
    "def checkcounts(df = None):\n",
    "    if df is None:\n",
    "        df =  taxi_new_2014_1_rand\n",
    "    return df.groupby('lonlat').count()['geometry']\\\n",
    "            [df.groupby('lonlat').count()['geometry'] > 1].count#.values.max()"
   ]
  },
  {
   "cell_type": "code",
   "execution_count": 27,
   "metadata": {
    "collapsed": false
   },
   "outputs": [
    {
     "data": {
      "text/plain": [
       "<bound method Series.count of lonlat\n",
       "(-74.003451, 40.753729)      2\n",
       "(-73.998436, 40.750561)      2\n",
       "(-73.977498, 40.761912)      2\n",
       "(-73.974464, 40.756866)      2\n",
       "(-73.961672, 40.774151)      2\n",
       "(-73.948726, 40.744844)      3\n",
       "(-73.937715, 40.758277)      5\n",
       "(-73.781965, 40.644702)      2\n",
       "(0.0, 0.0)                 277\n",
       "Name: geometry, dtype: int64>"
      ]
     },
     "execution_count": 27,
     "metadata": {},
     "output_type": "execute_result"
    }
   ],
   "source": [
    "checkcounts()"
   ]
  },
  {
   "cell_type": "code",
   "execution_count": null,
   "metadata": {
    "collapsed": true
   },
   "outputs": [],
   "source": []
  },
  {
   "cell_type": "code",
   "execution_count": 28,
   "metadata": {
    "collapsed": false
   },
   "outputs": [
    {
     "data": {
      "text/plain": [
       "(19712,)"
      ]
     },
     "execution_count": 28,
     "metadata": {},
     "output_type": "execute_result"
    }
   ],
   "source": [
    "taxi_new_2014_1_rand['lonlat'].unique().shape"
   ]
  },
  {
   "cell_type": "code",
   "execution_count": 29,
   "metadata": {
    "collapsed": false
   },
   "outputs": [
    {
     "name": "stdout",
     "output_type": "stream",
     "text": [
      "% 100.\n"
     ]
    },
    {
     "name": "stderr",
     "output_type": "stream",
     "text": [
      "/opt/rh/anaconda/root/envs/PUI2016_Python2/lib/python2.7/site-packages/ipykernel/__main__.py:6: SettingWithCopyWarning: \n",
      "A value is trying to be set on a copy of a slice from a DataFrame.\n",
      "Try using .loc[row_indexer,col_indexer] = value instead\n",
      "\n",
      "See the caveats in the documentation: http://pandas.pydata.org/pandas-docs/stable/indexing.html#indexing-view-versus-copy\n"
     ]
    }
   ],
   "source": [
    "a=[]\n",
    "# check for each pick up point to see what CT they are belong to\n",
    "for i in range(len(taxi_new_2014_1_rand)):\n",
    "    a.append(ct_shape[ct_shape.geometry.intersects(taxi_new_2014_1_rand.iloc[i].geometry)].BoroCT2010.values)\n",
    "    print '\\r',\"%\",str((i+1)*100./len(taxi_new_2014_1_rand))[:4],\n",
    "taxi_new_2014_1_rand['BoroCT2010']=a"
   ]
  },
  {
   "cell_type": "code",
   "execution_count": 30,
   "metadata": {
    "collapsed": false
   },
   "outputs": [
    {
     "data": {
      "text/html": [
       "<div>\n",
       "<table border=\"1\" class=\"dataframe\">\n",
       "  <thead>\n",
       "    <tr style=\"text-align: right;\">\n",
       "      <th></th>\n",
       "      <th>pickup_datetime</th>\n",
       "      <th>dropoff_datetime</th>\n",
       "      <th>passenger_count</th>\n",
       "      <th>trip_distance</th>\n",
       "      <th>pickup_longitude</th>\n",
       "      <th>pickup_latitude</th>\n",
       "      <th>lonlat</th>\n",
       "      <th>geometry</th>\n",
       "      <th>BoroCT2010</th>\n",
       "    </tr>\n",
       "  </thead>\n",
       "  <tbody>\n",
       "    <tr>\n",
       "      <th>0</th>\n",
       "      <td>2014-01-12 18:13:00</td>\n",
       "      <td>2014-01-12 18:18:00</td>\n",
       "      <td>2</td>\n",
       "      <td>1.01</td>\n",
       "      <td>-73.963422</td>\n",
       "      <td>40.808540</td>\n",
       "      <td>(-73.963422, 40.80854)</td>\n",
       "      <td>POINT (-73.96342199999998 40.80854)</td>\n",
       "      <td>[1020300]</td>\n",
       "    </tr>\n",
       "    <tr>\n",
       "      <th>1</th>\n",
       "      <td>2014-01-28 20:19:00</td>\n",
       "      <td>2014-01-28 20:25:00</td>\n",
       "      <td>1</td>\n",
       "      <td>1.19</td>\n",
       "      <td>-73.976397</td>\n",
       "      <td>40.779755</td>\n",
       "      <td>(-73.976397, 40.779755)</td>\n",
       "      <td>POINT (-73.97639700000001 40.779755)</td>\n",
       "      <td>[1016100]</td>\n",
       "    </tr>\n",
       "    <tr>\n",
       "      <th>2</th>\n",
       "      <td>2014-01-11 01:18:36</td>\n",
       "      <td>2014-01-11 01:29:29</td>\n",
       "      <td>1</td>\n",
       "      <td>2.40</td>\n",
       "      <td>-73.992260</td>\n",
       "      <td>40.749008</td>\n",
       "      <td>(-73.99226, 40.749008)</td>\n",
       "      <td>POINT (-73.99226 40.749008)</td>\n",
       "      <td>[1010100]</td>\n",
       "    </tr>\n",
       "    <tr>\n",
       "      <th>3</th>\n",
       "      <td>2014-01-07 18:33:15</td>\n",
       "      <td>2014-01-07 18:40:17</td>\n",
       "      <td>1</td>\n",
       "      <td>0.90</td>\n",
       "      <td>-73.971141</td>\n",
       "      <td>40.760348</td>\n",
       "      <td>(-73.971141, 40.760348)</td>\n",
       "      <td>POINT (-73.971141 40.760348)</td>\n",
       "      <td>[1010000]</td>\n",
       "    </tr>\n",
       "    <tr>\n",
       "      <th>4</th>\n",
       "      <td>2014-01-21 09:19:00</td>\n",
       "      <td>2014-01-21 09:37:00</td>\n",
       "      <td>1</td>\n",
       "      <td>2.02</td>\n",
       "      <td>-73.967750</td>\n",
       "      <td>40.765607</td>\n",
       "      <td>(-73.96775, 40.765607)</td>\n",
       "      <td>POINT (-73.96774999999998 40.765607)</td>\n",
       "      <td>[1012000]</td>\n",
       "    </tr>\n",
       "  </tbody>\n",
       "</table>\n",
       "</div>"
      ],
      "text/plain": [
       "       pickup_datetime     dropoff_datetime   passenger_count   trip_distance  \\\n",
       "0  2014-01-12 18:13:00  2014-01-12 18:18:00                 2            1.01   \n",
       "1  2014-01-28 20:19:00  2014-01-28 20:25:00                 1            1.19   \n",
       "2  2014-01-11 01:18:36  2014-01-11 01:29:29                 1            2.40   \n",
       "3  2014-01-07 18:33:15  2014-01-07 18:40:17                 1            0.90   \n",
       "4  2014-01-21 09:19:00  2014-01-21 09:37:00                 1            2.02   \n",
       "\n",
       "    pickup_longitude   pickup_latitude                   lonlat  \\\n",
       "0         -73.963422         40.808540   (-73.963422, 40.80854)   \n",
       "1         -73.976397         40.779755  (-73.976397, 40.779755)   \n",
       "2         -73.992260         40.749008   (-73.99226, 40.749008)   \n",
       "3         -73.971141         40.760348  (-73.971141, 40.760348)   \n",
       "4         -73.967750         40.765607   (-73.96775, 40.765607)   \n",
       "\n",
       "                               geometry BoroCT2010  \n",
       "0   POINT (-73.96342199999998 40.80854)  [1020300]  \n",
       "1  POINT (-73.97639700000001 40.779755)  [1016100]  \n",
       "2           POINT (-73.99226 40.749008)  [1010100]  \n",
       "3          POINT (-73.971141 40.760348)  [1010000]  \n",
       "4  POINT (-73.96774999999998 40.765607)  [1012000]  "
      ]
     },
     "execution_count": 30,
     "metadata": {},
     "output_type": "execute_result"
    }
   ],
   "source": [
    "taxi_new_2014_1_rand.head()"
   ]
  },
  {
   "cell_type": "code",
   "execution_count": 31,
   "metadata": {
    "collapsed": false
   },
   "outputs": [
    {
     "name": "stderr",
     "output_type": "stream",
     "text": [
      "/opt/rh/anaconda/root/envs/PUI2016_Python2/lib/python2.7/site-packages/pandas/core/generic.py:2701: SettingWithCopyWarning: \n",
      "A value is trying to be set on a copy of a slice from a DataFrame.\n",
      "Try using .loc[row_indexer,col_indexer] = value instead\n",
      "\n",
      "See the caveats in the documentation: http://pandas.pydata.org/pandas-docs/stable/indexing.html#indexing-view-versus-copy\n",
      "  self[name] = value\n"
     ]
    }
   ],
   "source": [
    "# remove bracket from BoroCT columns value\n",
    "taxi_new_2014_1_rand.BoroCT2010 = taxi_new_2014_1_rand.BoroCT2010.apply(lambda x: str(x)[3:10])"
   ]
  },
  {
   "cell_type": "code",
   "execution_count": 32,
   "metadata": {
    "collapsed": false
   },
   "outputs": [
    {
     "data": {
      "text/plain": [
       "<bound method Series.count of lonlat\n",
       "(-74.003451, 40.753729)      2\n",
       "(-73.998436, 40.750561)      2\n",
       "(-73.977498, 40.761912)      2\n",
       "(-73.974464, 40.756866)      2\n",
       "(-73.961672, 40.774151)      2\n",
       "(-73.948726, 40.744844)      3\n",
       "(-73.937715, 40.758277)      5\n",
       "(-73.781965, 40.644702)      2\n",
       "(0.0, 0.0)                 277\n",
       "Name: geometry, dtype: int64>"
      ]
     },
     "execution_count": 32,
     "metadata": {},
     "output_type": "execute_result"
    }
   ],
   "source": [
    "checkcounts()"
   ]
  },
  {
   "cell_type": "code",
   "execution_count": 33,
   "metadata": {
    "collapsed": false
   },
   "outputs": [
    {
     "data": {
      "text/plain": [
       "(19712,)"
      ]
     },
     "execution_count": 33,
     "metadata": {},
     "output_type": "execute_result"
    }
   ],
   "source": [
    "taxi_new_2014_1_rand.lonlat.unique().shape"
   ]
  },
  {
   "cell_type": "code",
   "execution_count": 34,
   "metadata": {
    "collapsed": false
   },
   "outputs": [
    {
     "data": {
      "text/plain": [
       "(484,)"
      ]
     },
     "execution_count": 34,
     "metadata": {},
     "output_type": "execute_result"
    }
   ],
   "source": [
    "ct = taxi_new_2014_1_rand.BoroCT2010.unique()\n",
    "ct.shape"
   ]
  },
  {
   "cell_type": "code",
   "execution_count": 35,
   "metadata": {
    "collapsed": false
   },
   "outputs": [
    {
     "data": {
      "text/plain": [
       "484"
      ]
     },
     "execution_count": 35,
     "metadata": {},
     "output_type": "execute_result"
    }
   ],
   "source": [
    "len(np.unique(ct))"
   ]
  },
  {
   "cell_type": "markdown",
   "metadata": {},
   "source": [
    "## Subway"
   ]
  },
  {
   "cell_type": "code",
   "execution_count": 36,
   "metadata": {
    "collapsed": true
   },
   "outputs": [],
   "source": [
    "subway_data=DataFrame.from_csv('subway.csv')"
   ]
  },
  {
   "cell_type": "code",
   "execution_count": 37,
   "metadata": {
    "collapsed": false
   },
   "outputs": [
    {
     "data": {
      "text/plain": [
       "Index([u'Line', u'Station Name', u'Station Latitude', u'Station Longitude',\n",
       "       u'Route1', u'Route2', u'Route3', u'Route4', u'Route5', u'Route6',\n",
       "       u'Route7', u'Route8', u'Route9', u'Route10', u'Route11',\n",
       "       u'Entrance Type', u'Entry', u'Exit Only', u'Vending', u'Staffing',\n",
       "       u'Staff Hours', u'ADA', u'ADA Notes', u'Free Crossover',\n",
       "       u'North South Street', u'East West Street', u'Corner',\n",
       "       u'Entrance Latitude', u'Entrance Longitude', u'Station Location',\n",
       "       u'Entrance Location'],\n",
       "      dtype='object')"
      ]
     },
     "execution_count": 37,
     "metadata": {},
     "output_type": "execute_result"
    }
   ],
   "source": [
    "subway_data.columns"
   ]
  },
  {
   "cell_type": "code",
   "execution_count": 38,
   "metadata": {
    "collapsed": false
   },
   "outputs": [
    {
     "data": {
      "text/plain": [
       "(1868, 31)"
      ]
     },
     "execution_count": 38,
     "metadata": {},
     "output_type": "execute_result"
    }
   ],
   "source": [
    "subway_data.shape"
   ]
  },
  {
   "cell_type": "code",
   "execution_count": 39,
   "metadata": {
    "collapsed": false
   },
   "outputs": [],
   "source": [
    "subway_data.index = range(0, 1868, 1)"
   ]
  },
  {
   "cell_type": "code",
   "execution_count": 40,
   "metadata": {
    "collapsed": false
   },
   "outputs": [
    {
     "data": {
      "text/html": [
       "<div>\n",
       "<table border=\"1\" class=\"dataframe\">\n",
       "  <thead>\n",
       "    <tr style=\"text-align: right;\">\n",
       "      <th></th>\n",
       "      <th>Line</th>\n",
       "      <th>Station Name</th>\n",
       "      <th>Station Latitude</th>\n",
       "      <th>Station Longitude</th>\n",
       "      <th>Route1</th>\n",
       "      <th>Route2</th>\n",
       "      <th>Route3</th>\n",
       "      <th>Route4</th>\n",
       "      <th>Route5</th>\n",
       "      <th>Route6</th>\n",
       "      <th>...</th>\n",
       "      <th>ADA</th>\n",
       "      <th>ADA Notes</th>\n",
       "      <th>Free Crossover</th>\n",
       "      <th>North South Street</th>\n",
       "      <th>East West Street</th>\n",
       "      <th>Corner</th>\n",
       "      <th>Entrance Latitude</th>\n",
       "      <th>Entrance Longitude</th>\n",
       "      <th>Station Location</th>\n",
       "      <th>Entrance Location</th>\n",
       "    </tr>\n",
       "  </thead>\n",
       "  <tbody>\n",
       "    <tr>\n",
       "      <th>0</th>\n",
       "      <td>4 Avenue</td>\n",
       "      <td>25th St</td>\n",
       "      <td>40.660397</td>\n",
       "      <td>-73.998091</td>\n",
       "      <td>R</td>\n",
       "      <td>NaN</td>\n",
       "      <td>NaN</td>\n",
       "      <td>NaN</td>\n",
       "      <td>NaN</td>\n",
       "      <td>NaN</td>\n",
       "      <td>...</td>\n",
       "      <td>False</td>\n",
       "      <td>NaN</td>\n",
       "      <td>False</td>\n",
       "      <td>4th Ave</td>\n",
       "      <td>25th St</td>\n",
       "      <td>SE</td>\n",
       "      <td>40.660323</td>\n",
       "      <td>-73.997952</td>\n",
       "      <td>(40.660397, -73.998091)</td>\n",
       "      <td>(40.660323, -73.997952)</td>\n",
       "    </tr>\n",
       "    <tr>\n",
       "      <th>1</th>\n",
       "      <td>4 Avenue</td>\n",
       "      <td>25th St</td>\n",
       "      <td>40.660397</td>\n",
       "      <td>-73.998091</td>\n",
       "      <td>R</td>\n",
       "      <td>NaN</td>\n",
       "      <td>NaN</td>\n",
       "      <td>NaN</td>\n",
       "      <td>NaN</td>\n",
       "      <td>NaN</td>\n",
       "      <td>...</td>\n",
       "      <td>False</td>\n",
       "      <td>NaN</td>\n",
       "      <td>False</td>\n",
       "      <td>4th Ave</td>\n",
       "      <td>25th St</td>\n",
       "      <td>SW</td>\n",
       "      <td>40.660489</td>\n",
       "      <td>-73.998220</td>\n",
       "      <td>(40.660397, -73.998091)</td>\n",
       "      <td>(40.660489, -73.998220)</td>\n",
       "    </tr>\n",
       "    <tr>\n",
       "      <th>2</th>\n",
       "      <td>4 Avenue</td>\n",
       "      <td>36th St</td>\n",
       "      <td>40.655144</td>\n",
       "      <td>-74.003549</td>\n",
       "      <td>N</td>\n",
       "      <td>R</td>\n",
       "      <td>NaN</td>\n",
       "      <td>NaN</td>\n",
       "      <td>NaN</td>\n",
       "      <td>NaN</td>\n",
       "      <td>...</td>\n",
       "      <td>False</td>\n",
       "      <td>NaN</td>\n",
       "      <td>True</td>\n",
       "      <td>4th Ave</td>\n",
       "      <td>36th St</td>\n",
       "      <td>NW</td>\n",
       "      <td>40.654490</td>\n",
       "      <td>-74.004499</td>\n",
       "      <td>(40.655144, -74.003549)</td>\n",
       "      <td>(40.654490, -74.004499)</td>\n",
       "    </tr>\n",
       "    <tr>\n",
       "      <th>3</th>\n",
       "      <td>4 Avenue</td>\n",
       "      <td>36th St</td>\n",
       "      <td>40.655144</td>\n",
       "      <td>-74.003549</td>\n",
       "      <td>N</td>\n",
       "      <td>R</td>\n",
       "      <td>NaN</td>\n",
       "      <td>NaN</td>\n",
       "      <td>NaN</td>\n",
       "      <td>NaN</td>\n",
       "      <td>...</td>\n",
       "      <td>False</td>\n",
       "      <td>NaN</td>\n",
       "      <td>True</td>\n",
       "      <td>4th Ave</td>\n",
       "      <td>36th St</td>\n",
       "      <td>NE</td>\n",
       "      <td>40.654365</td>\n",
       "      <td>-74.004113</td>\n",
       "      <td>(40.655144, -74.003549)</td>\n",
       "      <td>(40.654365, -74.004113)</td>\n",
       "    </tr>\n",
       "    <tr>\n",
       "      <th>4</th>\n",
       "      <td>4 Avenue</td>\n",
       "      <td>36th St</td>\n",
       "      <td>40.655144</td>\n",
       "      <td>-74.003549</td>\n",
       "      <td>N</td>\n",
       "      <td>R</td>\n",
       "      <td>NaN</td>\n",
       "      <td>NaN</td>\n",
       "      <td>NaN</td>\n",
       "      <td>NaN</td>\n",
       "      <td>...</td>\n",
       "      <td>False</td>\n",
       "      <td>NaN</td>\n",
       "      <td>True</td>\n",
       "      <td>4th Ave</td>\n",
       "      <td>36th St</td>\n",
       "      <td>NW</td>\n",
       "      <td>40.654676</td>\n",
       "      <td>-74.004306</td>\n",
       "      <td>(40.655144, -74.003549)</td>\n",
       "      <td>(40.654676, -74.004306)</td>\n",
       "    </tr>\n",
       "  </tbody>\n",
       "</table>\n",
       "<p>5 rows × 31 columns</p>\n",
       "</div>"
      ],
      "text/plain": [
       "       Line Station Name  Station Latitude  Station Longitude Route1 Route2  \\\n",
       "0  4 Avenue      25th St         40.660397         -73.998091      R    NaN   \n",
       "1  4 Avenue      25th St         40.660397         -73.998091      R    NaN   \n",
       "2  4 Avenue      36th St         40.655144         -74.003549      N      R   \n",
       "3  4 Avenue      36th St         40.655144         -74.003549      N      R   \n",
       "4  4 Avenue      36th St         40.655144         -74.003549      N      R   \n",
       "\n",
       "  Route3 Route4 Route5 Route6           ...               ADA  ADA Notes  \\\n",
       "0    NaN    NaN    NaN    NaN           ...             False        NaN   \n",
       "1    NaN    NaN    NaN    NaN           ...             False        NaN   \n",
       "2    NaN    NaN    NaN    NaN           ...             False        NaN   \n",
       "3    NaN    NaN    NaN    NaN           ...             False        NaN   \n",
       "4    NaN    NaN    NaN    NaN           ...             False        NaN   \n",
       "\n",
       "   Free Crossover  North South Street  East West Street Corner  \\\n",
       "0           False             4th Ave           25th St     SE   \n",
       "1           False             4th Ave           25th St     SW   \n",
       "2            True             4th Ave           36th St     NW   \n",
       "3            True             4th Ave           36th St     NE   \n",
       "4            True             4th Ave           36th St     NW   \n",
       "\n",
       "  Entrance Latitude Entrance Longitude         Station Location  \\\n",
       "0         40.660323         -73.997952  (40.660397, -73.998091)   \n",
       "1         40.660489         -73.998220  (40.660397, -73.998091)   \n",
       "2         40.654490         -74.004499  (40.655144, -74.003549)   \n",
       "3         40.654365         -74.004113  (40.655144, -74.003549)   \n",
       "4         40.654676         -74.004306  (40.655144, -74.003549)   \n",
       "\n",
       "         Entrance Location  \n",
       "0  (40.660323, -73.997952)  \n",
       "1  (40.660489, -73.998220)  \n",
       "2  (40.654490, -74.004499)  \n",
       "3  (40.654365, -74.004113)  \n",
       "4  (40.654676, -74.004306)  \n",
       "\n",
       "[5 rows x 31 columns]"
      ]
     },
     "execution_count": 40,
     "metadata": {},
     "output_type": "execute_result"
    }
   ],
   "source": [
    "subway_data.head()"
   ]
  },
  {
   "cell_type": "code",
   "execution_count": 41,
   "metadata": {
    "collapsed": true
   },
   "outputs": [],
   "source": [
    "subway_station = subway_data.ix[:,2:4]"
   ]
  },
  {
   "cell_type": "code",
   "execution_count": 42,
   "metadata": {
    "collapsed": false
   },
   "outputs": [
    {
     "data": {
      "text/html": [
       "<div>\n",
       "<table border=\"1\" class=\"dataframe\">\n",
       "  <thead>\n",
       "    <tr style=\"text-align: right;\">\n",
       "      <th></th>\n",
       "      <th>Station Latitude</th>\n",
       "      <th>Station Longitude</th>\n",
       "    </tr>\n",
       "  </thead>\n",
       "  <tbody>\n",
       "    <tr>\n",
       "      <th>0</th>\n",
       "      <td>40.660397</td>\n",
       "      <td>-73.998091</td>\n",
       "    </tr>\n",
       "    <tr>\n",
       "      <th>1</th>\n",
       "      <td>40.660397</td>\n",
       "      <td>-73.998091</td>\n",
       "    </tr>\n",
       "    <tr>\n",
       "      <th>2</th>\n",
       "      <td>40.655144</td>\n",
       "      <td>-74.003549</td>\n",
       "    </tr>\n",
       "    <tr>\n",
       "      <th>3</th>\n",
       "      <td>40.655144</td>\n",
       "      <td>-74.003549</td>\n",
       "    </tr>\n",
       "    <tr>\n",
       "      <th>4</th>\n",
       "      <td>40.655144</td>\n",
       "      <td>-74.003549</td>\n",
       "    </tr>\n",
       "  </tbody>\n",
       "</table>\n",
       "</div>"
      ],
      "text/plain": [
       "   Station Latitude  Station Longitude\n",
       "0         40.660397         -73.998091\n",
       "1         40.660397         -73.998091\n",
       "2         40.655144         -74.003549\n",
       "3         40.655144         -74.003549\n",
       "4         40.655144         -74.003549"
      ]
     },
     "execution_count": 42,
     "metadata": {},
     "output_type": "execute_result"
    }
   ],
   "source": [
    "subway_station.head()"
   ]
  },
  {
   "cell_type": "code",
   "execution_count": 43,
   "metadata": {
    "collapsed": false
   },
   "outputs": [
    {
     "name": "stderr",
     "output_type": "stream",
     "text": [
      "/opt/rh/anaconda/root/envs/PUI2016_Python2/lib/python2.7/site-packages/ipykernel/__main__.py:1: FutureWarning: the take_last=True keyword is deprecated, use keep='last' instead\n",
      "  if __name__ == '__main__':\n"
     ]
    },
    {
     "data": {
      "text/plain": [
       "(472, 2)"
      ]
     },
     "execution_count": 43,
     "metadata": {},
     "output_type": "execute_result"
    }
   ],
   "source": [
    "subway_station.drop_duplicates(subset=['Station Latitude', 'Station Longitude'], take_last=True, inplace=True)\n",
    "subway_station.reset_index()\n",
    "subway_station.shape"
   ]
  },
  {
   "cell_type": "code",
   "execution_count": 44,
   "metadata": {
    "collapsed": false
   },
   "outputs": [],
   "source": [
    "p1 = (taxi_new_2014_1_rand[' pickup_longitude'] + 1j * taxi_new_2014_1_rand[' pickup_latitude']).values\n",
    "p2 = (subway_station['Station Longitude'] + 1j * subway_station['Station Latitude']).values"
   ]
  },
  {
   "cell_type": "code",
   "execution_count": 45,
   "metadata": {
    "collapsed": false
   },
   "outputs": [
    {
     "data": {
      "text/plain": [
       "array([-73.963422+40.80854j , -73.976397+40.779755j, -73.992260+40.749008j,\n",
       "       ..., -74.008135+40.741185j, -73.862780+40.768797j,\n",
       "       -73.970285+40.764772j])"
      ]
     },
     "execution_count": 45,
     "metadata": {},
     "output_type": "execute_result"
    }
   ],
   "source": [
    "p1"
   ]
  },
  {
   "cell_type": "code",
   "execution_count": 46,
   "metadata": {
    "collapsed": false
   },
   "outputs": [],
   "source": [
    "all_dists = abs(p1[..., np.newaxis] - p2)"
   ]
  },
  {
   "cell_type": "code",
   "execution_count": 47,
   "metadata": {
    "collapsed": false
   },
   "outputs": [
    {
     "data": {
      "text/plain": [
       "(20000, 472)"
      ]
     },
     "execution_count": 47,
     "metadata": {},
     "output_type": "execute_result"
    }
   ],
   "source": [
    "all_dists.shape"
   ]
  },
  {
   "cell_type": "code",
   "execution_count": 48,
   "metadata": {
    "collapsed": true
   },
   "outputs": [],
   "source": [
    "#nearest_idxs1 = np.argmin(all_dists, axis = 0)\n",
    "nearest_idxs2 = np.argmin(all_dists, axis = 1)"
   ]
  },
  {
   "cell_type": "code",
   "execution_count": 49,
   "metadata": {
    "collapsed": false
   },
   "outputs": [
    {
     "data": {
      "text/plain": [
       "<bound method Series.count of lonlat\n",
       "(-74.003451, 40.753729)      2\n",
       "(-73.998436, 40.750561)      2\n",
       "(-73.977498, 40.761912)      2\n",
       "(-73.974464, 40.756866)      2\n",
       "(-73.961672, 40.774151)      2\n",
       "(-73.948726, 40.744844)      3\n",
       "(-73.937715, 40.758277)      5\n",
       "(-73.781965, 40.644702)      2\n",
       "(0.0, 0.0)                 277\n",
       "Name: geometry, dtype: int64>"
      ]
     },
     "execution_count": 49,
     "metadata": {},
     "output_type": "execute_result"
    }
   ],
   "source": [
    "checkcounts()\n"
   ]
  },
  {
   "cell_type": "code",
   "execution_count": 50,
   "metadata": {
    "collapsed": false
   },
   "outputs": [
    {
     "name": "stdout",
     "output_type": "stream",
     "text": [
      " pickup_datetime                     2014-01-12 18:13:00\n",
      " dropoff_datetime                    2014-01-12 18:18:00\n",
      " passenger_count                                       2\n",
      " trip_distance                                      1.01\n",
      " pickup_longitude                               -73.9634\n",
      " pickup_latitude                                 40.8085\n",
      "lonlat                            (-73.963422, 40.80854)\n",
      "geometry             POINT (-73.96342199999998 40.80854)\n",
      "BoroCT2010                                       1020300\n",
      "Name: 0, dtype: object\n",
      "(-73.964109999999991, 40.807721999999998)\n"
     ]
    }
   ],
   "source": [
    "print(taxi_new_2014_1_rand.iloc[0])\n",
    "print(subway_station.iloc[nearest_idxs2[0]]['Station Longitude'], subway_station.iloc[nearest_idxs2[0]]['Station Latitude'])"
   ]
  },
  {
   "cell_type": "code",
   "execution_count": 51,
   "metadata": {
    "collapsed": false
   },
   "outputs": [
    {
     "name": "stderr",
     "output_type": "stream",
     "text": [
      "/opt/rh/anaconda/root/envs/PUI2016_Python2/lib/python2.7/site-packages/ipykernel/__main__.py:1: SettingWithCopyWarning: \n",
      "A value is trying to be set on a copy of a slice from a DataFrame.\n",
      "Try using .loc[row_indexer,col_indexer] = value instead\n",
      "\n",
      "See the caveats in the documentation: http://pandas.pydata.org/pandas-docs/stable/indexing.html#indexing-view-versus-copy\n",
      "  if __name__ == '__main__':\n"
     ]
    },
    {
     "data": {
      "text/html": [
       "<div>\n",
       "<table border=\"1\" class=\"dataframe\">\n",
       "  <thead>\n",
       "    <tr style=\"text-align: right;\">\n",
       "      <th></th>\n",
       "      <th>pickup_datetime</th>\n",
       "      <th>dropoff_datetime</th>\n",
       "      <th>passenger_count</th>\n",
       "      <th>trip_distance</th>\n",
       "      <th>pickup_longitude</th>\n",
       "      <th>pickup_latitude</th>\n",
       "      <th>lonlat</th>\n",
       "      <th>geometry</th>\n",
       "      <th>BoroCT2010</th>\n",
       "      <th>sub_distances</th>\n",
       "    </tr>\n",
       "  </thead>\n",
       "  <tbody>\n",
       "    <tr>\n",
       "      <th>0</th>\n",
       "      <td>2014-01-12 18:13:00</td>\n",
       "      <td>2014-01-12 18:18:00</td>\n",
       "      <td>2</td>\n",
       "      <td>1.01</td>\n",
       "      <td>-73.963422</td>\n",
       "      <td>40.808540</td>\n",
       "      <td>(-73.963422, 40.80854)</td>\n",
       "      <td>POINT (-73.96342199999998 40.80854)</td>\n",
       "      <td>1020300</td>\n",
       "      <td>0.001069</td>\n",
       "    </tr>\n",
       "    <tr>\n",
       "      <th>1</th>\n",
       "      <td>2014-01-28 20:19:00</td>\n",
       "      <td>2014-01-28 20:25:00</td>\n",
       "      <td>1</td>\n",
       "      <td>1.19</td>\n",
       "      <td>-73.976397</td>\n",
       "      <td>40.779755</td>\n",
       "      <td>(-73.976397, 40.779755)</td>\n",
       "      <td>POINT (-73.97639700000001 40.779755)</td>\n",
       "      <td>1016100</td>\n",
       "      <td>0.004161</td>\n",
       "    </tr>\n",
       "    <tr>\n",
       "      <th>2</th>\n",
       "      <td>2014-01-11 01:18:36</td>\n",
       "      <td>2014-01-11 01:29:29</td>\n",
       "      <td>1</td>\n",
       "      <td>2.40</td>\n",
       "      <td>-73.992260</td>\n",
       "      <td>40.749008</td>\n",
       "      <td>(-73.99226, 40.749008)</td>\n",
       "      <td>POINT (-73.99226 40.749008)</td>\n",
       "      <td>1010100</td>\n",
       "      <td>0.001819</td>\n",
       "    </tr>\n",
       "    <tr>\n",
       "      <th>3</th>\n",
       "      <td>2014-01-07 18:33:15</td>\n",
       "      <td>2014-01-07 18:40:17</td>\n",
       "      <td>1</td>\n",
       "      <td>0.90</td>\n",
       "      <td>-73.971141</td>\n",
       "      <td>40.760348</td>\n",
       "      <td>(-73.971141, 40.760348)</td>\n",
       "      <td>POINT (-73.971141 40.760348)</td>\n",
       "      <td>1010000</td>\n",
       "      <td>0.003333</td>\n",
       "    </tr>\n",
       "    <tr>\n",
       "      <th>4</th>\n",
       "      <td>2014-01-21 09:19:00</td>\n",
       "      <td>2014-01-21 09:37:00</td>\n",
       "      <td>1</td>\n",
       "      <td>2.02</td>\n",
       "      <td>-73.967750</td>\n",
       "      <td>40.765607</td>\n",
       "      <td>(-73.96775, 40.765607)</td>\n",
       "      <td>POINT (-73.96774999999998 40.765607)</td>\n",
       "      <td>1012000</td>\n",
       "      <td>0.001910</td>\n",
       "    </tr>\n",
       "  </tbody>\n",
       "</table>\n",
       "</div>"
      ],
      "text/plain": [
       "       pickup_datetime     dropoff_datetime   passenger_count   trip_distance  \\\n",
       "0  2014-01-12 18:13:00  2014-01-12 18:18:00                 2            1.01   \n",
       "1  2014-01-28 20:19:00  2014-01-28 20:25:00                 1            1.19   \n",
       "2  2014-01-11 01:18:36  2014-01-11 01:29:29                 1            2.40   \n",
       "3  2014-01-07 18:33:15  2014-01-07 18:40:17                 1            0.90   \n",
       "4  2014-01-21 09:19:00  2014-01-21 09:37:00                 1            2.02   \n",
       "\n",
       "    pickup_longitude   pickup_latitude                   lonlat  \\\n",
       "0         -73.963422         40.808540   (-73.963422, 40.80854)   \n",
       "1         -73.976397         40.779755  (-73.976397, 40.779755)   \n",
       "2         -73.992260         40.749008   (-73.99226, 40.749008)   \n",
       "3         -73.971141         40.760348  (-73.971141, 40.760348)   \n",
       "4         -73.967750         40.765607   (-73.96775, 40.765607)   \n",
       "\n",
       "                               geometry BoroCT2010  sub_distances  \n",
       "0   POINT (-73.96342199999998 40.80854)    1020300       0.001069  \n",
       "1  POINT (-73.97639700000001 40.779755)    1016100       0.004161  \n",
       "2           POINT (-73.99226 40.749008)    1010100       0.001819  \n",
       "3          POINT (-73.971141 40.760348)    1010000       0.003333  \n",
       "4  POINT (-73.96774999999998 40.765607)    1012000       0.001910  "
      ]
     },
     "execution_count": 51,
     "metadata": {},
     "output_type": "execute_result"
    }
   ],
   "source": [
    "taxi_new_2014_1_rand['sub_distances'] = np.min(all_dists, axis=1)\n",
    "taxi_new_2014_1_rand.head()"
   ]
  },
  {
   "cell_type": "code",
   "execution_count": 52,
   "metadata": {
    "collapsed": false
   },
   "outputs": [
    {
     "data": {
      "text/plain": [
       "(19712,)"
      ]
     },
     "execution_count": 52,
     "metadata": {},
     "output_type": "execute_result"
    }
   ],
   "source": [
    "taxi_new_2014_1_rand.lonlat.unique().shape"
   ]
  },
  {
   "cell_type": "code",
   "execution_count": 53,
   "metadata": {
    "collapsed": false
   },
   "outputs": [
    {
     "data": {
      "text/plain": [
       "<bound method Series.count of lonlat\n",
       "(-74.003451, 40.753729)      2\n",
       "(-73.998436, 40.750561)      2\n",
       "(-73.977498, 40.761912)      2\n",
       "(-73.974464, 40.756866)      2\n",
       "(-73.961672, 40.774151)      2\n",
       "(-73.948726, 40.744844)      3\n",
       "(-73.937715, 40.758277)      5\n",
       "(-73.781965, 40.644702)      2\n",
       "(0.0, 0.0)                 277\n",
       "Name: geometry, dtype: int64>"
      ]
     },
     "execution_count": 53,
     "metadata": {},
     "output_type": "execute_result"
    }
   ],
   "source": [
    "checkcounts()"
   ]
  },
  {
   "cell_type": "markdown",
   "metadata": {},
   "source": [
    "## safety score"
   ]
  },
  {
   "cell_type": "code",
   "execution_count": 54,
   "metadata": {
    "collapsed": false
   },
   "outputs": [],
   "source": [
    "safety =pd.read_csv('safety.csv')"
   ]
  },
  {
   "cell_type": "code",
   "execution_count": 55,
   "metadata": {
    "collapsed": false
   },
   "outputs": [
    {
     "data": {
      "text/plain": [
       "(322386, 3)"
      ]
     },
     "execution_count": 55,
     "metadata": {},
     "output_type": "execute_result"
    }
   ],
   "source": [
    "safety.shape\n"
   ]
  },
  {
   "cell_type": "code",
   "execution_count": 56,
   "metadata": {
    "collapsed": false
   },
   "outputs": [],
   "source": [
    "rand1 = np.random.choice(safety.index,100000, replace=True)"
   ]
  },
  {
   "cell_type": "code",
   "execution_count": 57,
   "metadata": {
    "collapsed": true
   },
   "outputs": [],
   "source": [
    "safety = safety.iloc[rand1,:]"
   ]
  },
  {
   "cell_type": "code",
   "execution_count": 59,
   "metadata": {
    "collapsed": false
   },
   "outputs": [],
   "source": [
    "safety.index = range(0, 100000, 1)"
   ]
  },
  {
   "cell_type": "code",
   "execution_count": 60,
   "metadata": {
    "collapsed": false
   },
   "outputs": [],
   "source": [
    "safety.drop_duplicates(inplace=True)"
   ]
  },
  {
   "cell_type": "code",
   "execution_count": 61,
   "metadata": {
    "collapsed": false
   },
   "outputs": [
    {
     "data": {
      "text/plain": [
       "Index([u'latitude', u'longitude', u'q-score'], dtype='object')"
      ]
     },
     "execution_count": 61,
     "metadata": {},
     "output_type": "execute_result"
    }
   ],
   "source": [
    "safety.columns"
   ]
  },
  {
   "cell_type": "code",
   "execution_count": 62,
   "metadata": {
    "collapsed": false
   },
   "outputs": [
    {
     "data": {
      "text/html": [
       "<div>\n",
       "<table border=\"1\" class=\"dataframe\">\n",
       "  <thead>\n",
       "    <tr style=\"text-align: right;\">\n",
       "      <th></th>\n",
       "      <th>latitude</th>\n",
       "      <th>longitude</th>\n",
       "      <th>q-score</th>\n",
       "    </tr>\n",
       "  </thead>\n",
       "  <tbody>\n",
       "    <tr>\n",
       "      <th>0</th>\n",
       "      <td>40.728027</td>\n",
       "      <td>-73.993217</td>\n",
       "      <td>31.315622</td>\n",
       "    </tr>\n",
       "    <tr>\n",
       "      <th>1</th>\n",
       "      <td>40.639950</td>\n",
       "      <td>-73.917717</td>\n",
       "      <td>32.208092</td>\n",
       "    </tr>\n",
       "    <tr>\n",
       "      <th>2</th>\n",
       "      <td>40.597702</td>\n",
       "      <td>-73.983017</td>\n",
       "      <td>32.815025</td>\n",
       "    </tr>\n",
       "    <tr>\n",
       "      <th>3</th>\n",
       "      <td>40.688129</td>\n",
       "      <td>-73.816353</td>\n",
       "      <td>30.073069</td>\n",
       "    </tr>\n",
       "    <tr>\n",
       "      <th>4</th>\n",
       "      <td>40.817402</td>\n",
       "      <td>-73.911217</td>\n",
       "      <td>30.514952</td>\n",
       "    </tr>\n",
       "  </tbody>\n",
       "</table>\n",
       "</div>"
      ],
      "text/plain": [
       "    latitude  longitude    q-score\n",
       "0  40.728027 -73.993217  31.315622\n",
       "1  40.639950 -73.917717  32.208092\n",
       "2  40.597702 -73.983017  32.815025\n",
       "3  40.688129 -73.816353  30.073069\n",
       "4  40.817402 -73.911217  30.514952"
      ]
     },
     "execution_count": 62,
     "metadata": {},
     "output_type": "execute_result"
    }
   ],
   "source": [
    "safety.head()"
   ]
  },
  {
   "cell_type": "code",
   "execution_count": 63,
   "metadata": {
    "collapsed": true
   },
   "outputs": [],
   "source": [
    "s_obj = zip(safety['longitude'],safety['latitude'])"
   ]
  },
  {
   "cell_type": "code",
   "execution_count": 64,
   "metadata": {
    "collapsed": false
   },
   "outputs": [
    {
     "data": {
      "text/html": [
       "<div>\n",
       "<table border=\"1\" class=\"dataframe\">\n",
       "  <thead>\n",
       "    <tr style=\"text-align: right;\">\n",
       "      <th></th>\n",
       "      <th>latitude</th>\n",
       "      <th>longitude</th>\n",
       "      <th>q-score</th>\n",
       "      <th>lonlat</th>\n",
       "    </tr>\n",
       "  </thead>\n",
       "  <tbody>\n",
       "    <tr>\n",
       "      <th>0</th>\n",
       "      <td>40.728027</td>\n",
       "      <td>-73.993217</td>\n",
       "      <td>31.315622</td>\n",
       "      <td>(-73.993217, 40.728027)</td>\n",
       "    </tr>\n",
       "    <tr>\n",
       "      <th>1</th>\n",
       "      <td>40.639950</td>\n",
       "      <td>-73.917717</td>\n",
       "      <td>32.208092</td>\n",
       "      <td>(-73.917717, 40.63995)</td>\n",
       "    </tr>\n",
       "    <tr>\n",
       "      <th>2</th>\n",
       "      <td>40.597702</td>\n",
       "      <td>-73.983017</td>\n",
       "      <td>32.815025</td>\n",
       "      <td>(-73.983017, 40.597702)</td>\n",
       "    </tr>\n",
       "    <tr>\n",
       "      <th>3</th>\n",
       "      <td>40.688129</td>\n",
       "      <td>-73.816353</td>\n",
       "      <td>30.073069</td>\n",
       "      <td>(-73.816353, 40.688129)</td>\n",
       "    </tr>\n",
       "    <tr>\n",
       "      <th>4</th>\n",
       "      <td>40.817402</td>\n",
       "      <td>-73.911217</td>\n",
       "      <td>30.514952</td>\n",
       "      <td>(-73.911217, 40.817402)</td>\n",
       "    </tr>\n",
       "  </tbody>\n",
       "</table>\n",
       "</div>"
      ],
      "text/plain": [
       "    latitude  longitude    q-score                   lonlat\n",
       "0  40.728027 -73.993217  31.315622  (-73.993217, 40.728027)\n",
       "1  40.639950 -73.917717  32.208092   (-73.917717, 40.63995)\n",
       "2  40.597702 -73.983017  32.815025  (-73.983017, 40.597702)\n",
       "3  40.688129 -73.816353  30.073069  (-73.816353, 40.688129)\n",
       "4  40.817402 -73.911217  30.514952  (-73.911217, 40.817402)"
      ]
     },
     "execution_count": 64,
     "metadata": {},
     "output_type": "execute_result"
    }
   ],
   "source": [
    "safety['lonlat'] = list(s_obj)\n",
    "safety.head()"
   ]
  },
  {
   "cell_type": "code",
   "execution_count": 65,
   "metadata": {
    "collapsed": true
   },
   "outputs": [],
   "source": [
    "Safety_distance = safety.ix[:,0:2]"
   ]
  },
  {
   "cell_type": "code",
   "execution_count": 66,
   "metadata": {
    "collapsed": false
   },
   "outputs": [
    {
     "data": {
      "text/html": [
       "<div>\n",
       "<table border=\"1\" class=\"dataframe\">\n",
       "  <thead>\n",
       "    <tr style=\"text-align: right;\">\n",
       "      <th></th>\n",
       "      <th>latitude</th>\n",
       "      <th>longitude</th>\n",
       "    </tr>\n",
       "  </thead>\n",
       "  <tbody>\n",
       "    <tr>\n",
       "      <th>0</th>\n",
       "      <td>40.728027</td>\n",
       "      <td>-73.993217</td>\n",
       "    </tr>\n",
       "    <tr>\n",
       "      <th>1</th>\n",
       "      <td>40.639950</td>\n",
       "      <td>-73.917717</td>\n",
       "    </tr>\n",
       "    <tr>\n",
       "      <th>2</th>\n",
       "      <td>40.597702</td>\n",
       "      <td>-73.983017</td>\n",
       "    </tr>\n",
       "    <tr>\n",
       "      <th>3</th>\n",
       "      <td>40.688129</td>\n",
       "      <td>-73.816353</td>\n",
       "    </tr>\n",
       "    <tr>\n",
       "      <th>4</th>\n",
       "      <td>40.817402</td>\n",
       "      <td>-73.911217</td>\n",
       "    </tr>\n",
       "  </tbody>\n",
       "</table>\n",
       "</div>"
      ],
      "text/plain": [
       "    latitude  longitude\n",
       "0  40.728027 -73.993217\n",
       "1  40.639950 -73.917717\n",
       "2  40.597702 -73.983017\n",
       "3  40.688129 -73.816353\n",
       "4  40.817402 -73.911217"
      ]
     },
     "execution_count": 66,
     "metadata": {},
     "output_type": "execute_result"
    }
   ],
   "source": [
    "Safety_distance.head()"
   ]
  },
  {
   "cell_type": "code",
   "execution_count": 67,
   "metadata": {
    "collapsed": false
   },
   "outputs": [],
   "source": [
    "p3 = (Safety_distance['longitude'] + 1j * Safety_distance['latitude']).values"
   ]
  },
  {
   "cell_type": "code",
   "execution_count": 68,
   "metadata": {
    "collapsed": false
   },
   "outputs": [
    {
     "data": {
      "text/plain": [
       "array([-73.993217+40.728027j, -73.917717+40.63995j , -73.983017+40.597702j,\n",
       "       ..., -73.934792+40.612976j, -73.796173+40.780125j,\n",
       "       -73.904961+40.609402j])"
      ]
     },
     "execution_count": 68,
     "metadata": {},
     "output_type": "execute_result"
    }
   ],
   "source": [
    "p3"
   ]
  },
  {
   "cell_type": "code",
   "execution_count": 69,
   "metadata": {
    "collapsed": false
   },
   "outputs": [],
   "source": [
    "all_dists_safety = abs(p1[..., np.newaxis] - p3)"
   ]
  },
  {
   "cell_type": "code",
   "execution_count": 516,
   "metadata": {
    "collapsed": false
   },
   "outputs": [],
   "source": [
    "#temp=pd.DataFrame(all_dists_safety)\n"
   ]
  },
  {
   "cell_type": "code",
   "execution_count": 517,
   "metadata": {
    "collapsed": false
   },
   "outputs": [],
   "source": [
    "#t1=temp.apply(lambda x: list(x[x<0.05].index),axis=1)\n",
    "#t1"
   ]
  },
  {
   "cell_type": "code",
   "execution_count": 518,
   "metadata": {
    "collapsed": false
   },
   "outputs": [],
   "source": [
    "#len(t1)"
   ]
  },
  {
   "cell_type": "code",
   "execution_count": 519,
   "metadata": {
    "collapsed": false
   },
   "outputs": [],
   "source": [
    "#safety.iloc[80]['q-score']"
   ]
  },
  {
   "cell_type": "code",
   "execution_count": 520,
   "metadata": {
    "collapsed": false
   },
   "outputs": [
    {
     "data": {
      "text/plain": [
       "'\\'\\nl1 = []\\nfor i in (t1):\\n    count = 0\\n    sume=0\\n    for j in i :\\n        count=count+1\\n        sume = sume+safety.iloc[j][\\'q-score\\']\\n# l1.append(sume)\\n    print sume/count, \" this\"\\n'"
      ]
     },
     "execution_count": 520,
     "metadata": {},
     "output_type": "execute_result"
    }
   ],
   "source": [
    "''''\n",
    "l1 = []\n",
    "for i in (t1):\n",
    "    count = 0\n",
    "    sume=0\n",
    "    for j in i :\n",
    "        count=count+1\n",
    "        sume = sume+safety.iloc[j]['q-score']\n",
    "# l1.append(sume)\n",
    "    print sume/count, \" this\"\n",
    "'''        "
   ]
  },
  {
   "cell_type": "code",
   "execution_count": 70,
   "metadata": {
    "collapsed": false
   },
   "outputs": [
    {
     "data": {
      "text/plain": [
       "(20000, 85987)"
      ]
     },
     "execution_count": 70,
     "metadata": {},
     "output_type": "execute_result"
    }
   ],
   "source": [
    "all_dists_safety.shape"
   ]
  },
  {
   "cell_type": "code",
   "execution_count": 71,
   "metadata": {
    "collapsed": true
   },
   "outputs": [],
   "source": [
    "nearest_idxs3 = np.argmin(all_dists_safety, axis = 1)"
   ]
  },
  {
   "cell_type": "code",
   "execution_count": 72,
   "metadata": {
    "collapsed": false
   },
   "outputs": [
    {
     "data": {
      "text/plain": [
       "array([38667, 46505, 32224, ..., 28188, 83583, 10924])"
      ]
     },
     "execution_count": 72,
     "metadata": {},
     "output_type": "execute_result"
    }
   ],
   "source": [
    "nearest_idxs3"
   ]
  },
  {
   "cell_type": "code",
   "execution_count": 73,
   "metadata": {
    "collapsed": false
   },
   "outputs": [
    {
     "data": {
      "text/plain": [
       "(20000,)"
      ]
     },
     "execution_count": 73,
     "metadata": {},
     "output_type": "execute_result"
    }
   ],
   "source": [
    "safety_list = safety.loc[nearest_idxs3]['q-score']\n",
    "safety_list.shape"
   ]
  },
  {
   "cell_type": "code",
   "execution_count": 74,
   "metadata": {
    "collapsed": false
   },
   "outputs": [
    {
     "name": "stderr",
     "output_type": "stream",
     "text": [
      "/opt/rh/anaconda/root/envs/PUI2016_Python2/lib/python2.7/site-packages/ipykernel/__main__.py:2: SettingWithCopyWarning: \n",
      "A value is trying to be set on a copy of a slice from a DataFrame.\n",
      "Try using .loc[row_indexer,col_indexer] = value instead\n",
      "\n",
      "See the caveats in the documentation: http://pandas.pydata.org/pandas-docs/stable/indexing.html#indexing-view-versus-copy\n",
      "  from ipykernel import kernelapp as app\n"
     ]
    },
    {
     "data": {
      "text/html": [
       "<div>\n",
       "<table border=\"1\" class=\"dataframe\">\n",
       "  <thead>\n",
       "    <tr style=\"text-align: right;\">\n",
       "      <th></th>\n",
       "      <th>pickup_datetime</th>\n",
       "      <th>dropoff_datetime</th>\n",
       "      <th>passenger_count</th>\n",
       "      <th>trip_distance</th>\n",
       "      <th>pickup_longitude</th>\n",
       "      <th>pickup_latitude</th>\n",
       "      <th>lonlat</th>\n",
       "      <th>geometry</th>\n",
       "      <th>BoroCT2010</th>\n",
       "      <th>sub_distances</th>\n",
       "      <th>safety</th>\n",
       "    </tr>\n",
       "  </thead>\n",
       "  <tbody>\n",
       "    <tr>\n",
       "      <th>0</th>\n",
       "      <td>2014-01-12 18:13:00</td>\n",
       "      <td>2014-01-12 18:18:00</td>\n",
       "      <td>2</td>\n",
       "      <td>1.01</td>\n",
       "      <td>-73.963422</td>\n",
       "      <td>40.808540</td>\n",
       "      <td>(-73.963422, 40.80854)</td>\n",
       "      <td>POINT (-73.96342199999998 40.80854)</td>\n",
       "      <td>1020300</td>\n",
       "      <td>0.001069</td>\n",
       "      <td>26.517160</td>\n",
       "    </tr>\n",
       "    <tr>\n",
       "      <th>1</th>\n",
       "      <td>2014-01-28 20:19:00</td>\n",
       "      <td>2014-01-28 20:25:00</td>\n",
       "      <td>1</td>\n",
       "      <td>1.19</td>\n",
       "      <td>-73.976397</td>\n",
       "      <td>40.779755</td>\n",
       "      <td>(-73.976397, 40.779755)</td>\n",
       "      <td>POINT (-73.97639700000001 40.779755)</td>\n",
       "      <td>1016100</td>\n",
       "      <td>0.004161</td>\n",
       "      <td>15.860985</td>\n",
       "    </tr>\n",
       "    <tr>\n",
       "      <th>2</th>\n",
       "      <td>2014-01-11 01:18:36</td>\n",
       "      <td>2014-01-11 01:29:29</td>\n",
       "      <td>1</td>\n",
       "      <td>2.40</td>\n",
       "      <td>-73.992260</td>\n",
       "      <td>40.749008</td>\n",
       "      <td>(-73.99226, 40.749008)</td>\n",
       "      <td>POINT (-73.99226 40.749008)</td>\n",
       "      <td>1010100</td>\n",
       "      <td>0.001819</td>\n",
       "      <td>12.741126</td>\n",
       "    </tr>\n",
       "    <tr>\n",
       "      <th>3</th>\n",
       "      <td>2014-01-07 18:33:15</td>\n",
       "      <td>2014-01-07 18:40:17</td>\n",
       "      <td>1</td>\n",
       "      <td>0.90</td>\n",
       "      <td>-73.971141</td>\n",
       "      <td>40.760348</td>\n",
       "      <td>(-73.971141, 40.760348)</td>\n",
       "      <td>POINT (-73.971141 40.760348)</td>\n",
       "      <td>1010000</td>\n",
       "      <td>0.003333</td>\n",
       "      <td>23.524021</td>\n",
       "    </tr>\n",
       "    <tr>\n",
       "      <th>4</th>\n",
       "      <td>2014-01-21 09:19:00</td>\n",
       "      <td>2014-01-21 09:37:00</td>\n",
       "      <td>1</td>\n",
       "      <td>2.02</td>\n",
       "      <td>-73.967750</td>\n",
       "      <td>40.765607</td>\n",
       "      <td>(-73.96775, 40.765607)</td>\n",
       "      <td>POINT (-73.96774999999998 40.765607)</td>\n",
       "      <td>1012000</td>\n",
       "      <td>0.001910</td>\n",
       "      <td>33.652096</td>\n",
       "    </tr>\n",
       "  </tbody>\n",
       "</table>\n",
       "</div>"
      ],
      "text/plain": [
       "       pickup_datetime     dropoff_datetime   passenger_count   trip_distance  \\\n",
       "0  2014-01-12 18:13:00  2014-01-12 18:18:00                 2            1.01   \n",
       "1  2014-01-28 20:19:00  2014-01-28 20:25:00                 1            1.19   \n",
       "2  2014-01-11 01:18:36  2014-01-11 01:29:29                 1            2.40   \n",
       "3  2014-01-07 18:33:15  2014-01-07 18:40:17                 1            0.90   \n",
       "4  2014-01-21 09:19:00  2014-01-21 09:37:00                 1            2.02   \n",
       "\n",
       "    pickup_longitude   pickup_latitude                   lonlat  \\\n",
       "0         -73.963422         40.808540   (-73.963422, 40.80854)   \n",
       "1         -73.976397         40.779755  (-73.976397, 40.779755)   \n",
       "2         -73.992260         40.749008   (-73.99226, 40.749008)   \n",
       "3         -73.971141         40.760348  (-73.971141, 40.760348)   \n",
       "4         -73.967750         40.765607   (-73.96775, 40.765607)   \n",
       "\n",
       "                               geometry BoroCT2010  sub_distances     safety  \n",
       "0   POINT (-73.96342199999998 40.80854)    1020300       0.001069  26.517160  \n",
       "1  POINT (-73.97639700000001 40.779755)    1016100       0.004161  15.860985  \n",
       "2           POINT (-73.99226 40.749008)    1010100       0.001819  12.741126  \n",
       "3          POINT (-73.971141 40.760348)    1010000       0.003333  23.524021  \n",
       "4  POINT (-73.96774999999998 40.765607)    1012000       0.001910  33.652096  "
      ]
     },
     "execution_count": 74,
     "metadata": {},
     "output_type": "execute_result"
    }
   ],
   "source": [
    "safety_list = list(safety_list)\n",
    "taxi_new_2014_1_rand['safety'] = safety_list\n",
    "taxi_new_2014_1_rand.head()"
   ]
  },
  {
   "cell_type": "code",
   "execution_count": 75,
   "metadata": {
    "collapsed": false,
    "scrolled": true
   },
   "outputs": [
    {
     "data": {
      "text/plain": [
       "<bound method Series.count of lonlat\n",
       "(-74.003451, 40.753729)      2\n",
       "(-73.998436, 40.750561)      2\n",
       "(-73.977498, 40.761912)      2\n",
       "(-73.974464, 40.756866)      2\n",
       "(-73.961672, 40.774151)      2\n",
       "(-73.948726, 40.744844)      3\n",
       "(-73.937715, 40.758277)      5\n",
       "(-73.781965, 40.644702)      2\n",
       "(0.0, 0.0)                 277\n",
       "Name: geometry, dtype: int64>"
      ]
     },
     "execution_count": 75,
     "metadata": {},
     "output_type": "execute_result"
    }
   ],
   "source": [
    "checkcounts()"
   ]
  },
  {
   "cell_type": "code",
   "execution_count": 76,
   "metadata": {
    "collapsed": false
   },
   "outputs": [
    {
     "data": {
      "text/plain": [
       "(19712,)"
      ]
     },
     "execution_count": 76,
     "metadata": {},
     "output_type": "execute_result"
    }
   ],
   "source": [
    "taxi_new_2014_1_rand.lonlat.unique().shape"
   ]
  },
  {
   "cell_type": "markdown",
   "metadata": {},
   "source": [
    "## age\n"
   ]
  },
  {
   "cell_type": "code",
   "execution_count": 77,
   "metadata": {
    "collapsed": true
   },
   "outputs": [],
   "source": [
    "medianage = pd.read_csv(\"ttp1.csv\")"
   ]
  },
  {
   "cell_type": "code",
   "execution_count": 78,
   "metadata": {
    "collapsed": true
   },
   "outputs": [],
   "source": [
    "medianage = medianage.iloc[:,(0,3)]"
   ]
  },
  {
   "cell_type": "code",
   "execution_count": 79,
   "metadata": {
    "collapsed": true
   },
   "outputs": [],
   "source": [
    "medianage.dropna(inplace = True)"
   ]
  },
  {
   "cell_type": "code",
   "execution_count": 80,
   "metadata": {
    "collapsed": true
   },
   "outputs": [],
   "source": [
    "medianage[\"BoroCT2010\"] = medianage['Census Tract'].apply(lambda x: str(x)[4:-4])"
   ]
  },
  {
   "cell_type": "code",
   "execution_count": 81,
   "metadata": {
    "collapsed": false
   },
   "outputs": [
    {
     "data": {
      "text/plain": [
       "array(['5050400', '5022800', '5029102', ..., '1020701', '5022703',\n",
       "       '1023502'], dtype=object)"
      ]
     },
     "execution_count": 81,
     "metadata": {},
     "output_type": "execute_result"
    }
   ],
   "source": [
    "medianage[\"BoroCT2010\"].unique()"
   ]
  },
  {
   "cell_type": "code",
   "execution_count": 82,
   "metadata": {
    "collapsed": false
   },
   "outputs": [
    {
     "data": {
      "text/plain": [
       "array(['5050400', '5022800', '5029102', ..., '1020701', '5022703',\n",
       "       '1023502'], dtype=object)"
      ]
     },
     "execution_count": 82,
     "metadata": {},
     "output_type": "execute_result"
    }
   ],
   "source": [
    "medianage[\"BoroCT2010\"].unique()"
   ]
  },
  {
   "cell_type": "code",
   "execution_count": 83,
   "metadata": {
    "collapsed": false
   },
   "outputs": [
    {
     "data": {
      "text/html": [
       "<div>\n",
       "<table border=\"1\" class=\"dataframe\">\n",
       "  <thead>\n",
       "    <tr style=\"text-align: right;\">\n",
       "      <th></th>\n",
       "      <th>Census Tract</th>\n",
       "      <th>Estimated typical (median) age of all people between 2010-2014.</th>\n",
       "      <th>BoroCT2010</th>\n",
       "    </tr>\n",
       "  </thead>\n",
       "  <tbody>\n",
       "    <tr>\n",
       "      <th>6</th>\n",
       "      <td>36005050400, NY</td>\n",
       "      <td>27.0</td>\n",
       "      <td>5050400</td>\n",
       "    </tr>\n",
       "    <tr>\n",
       "      <th>7</th>\n",
       "      <td>36085022800, NY</td>\n",
       "      <td>27.0</td>\n",
       "      <td>5022800</td>\n",
       "    </tr>\n",
       "    <tr>\n",
       "      <th>8</th>\n",
       "      <td>36085029102, NY</td>\n",
       "      <td>36.0</td>\n",
       "      <td>5029102</td>\n",
       "    </tr>\n",
       "    <tr>\n",
       "      <th>9</th>\n",
       "      <td>36085019800, NY</td>\n",
       "      <td>38.0</td>\n",
       "      <td>5019800</td>\n",
       "    </tr>\n",
       "    <tr>\n",
       "      <th>10</th>\n",
       "      <td>36085022600, NY</td>\n",
       "      <td>39.0</td>\n",
       "      <td>5022600</td>\n",
       "    </tr>\n",
       "  </tbody>\n",
       "</table>\n",
       "</div>"
      ],
      "text/plain": [
       "       Census Tract  \\\n",
       "6   36005050400, NY   \n",
       "7   36085022800, NY   \n",
       "8   36085029102, NY   \n",
       "9   36085019800, NY   \n",
       "10  36085022600, NY   \n",
       "\n",
       "    Estimated typical (median) age of all people between 2010-2014. BoroCT2010  \n",
       "6                                                27.0                  5050400  \n",
       "7                                                27.0                  5022800  \n",
       "8                                                36.0                  5029102  \n",
       "9                                                38.0                  5019800  \n",
       "10                                               39.0                  5022600  "
      ]
     },
     "execution_count": 83,
     "metadata": {},
     "output_type": "execute_result"
    }
   ],
   "source": [
    "medianage.head()"
   ]
  },
  {
   "cell_type": "code",
   "execution_count": 84,
   "metadata": {
    "collapsed": false
   },
   "outputs": [
    {
     "data": {
      "text/plain": [
       "(1958,)"
      ]
     },
     "execution_count": 84,
     "metadata": {},
     "output_type": "execute_result"
    }
   ],
   "source": [
    "medianage.BoroCT2010.unique().shape"
   ]
  },
  {
   "cell_type": "code",
   "execution_count": 85,
   "metadata": {
    "collapsed": false
   },
   "outputs": [
    {
     "data": {
      "text/plain": [
       "484"
      ]
     },
     "execution_count": 85,
     "metadata": {},
     "output_type": "execute_result"
    }
   ],
   "source": [
    "len(ct)"
   ]
  },
  {
   "cell_type": "code",
   "execution_count": 86,
   "metadata": {
    "collapsed": false
   },
   "outputs": [],
   "source": [
    "modified_ct_medianage = medianage[medianage.BoroCT2010.isin(ct)]"
   ]
  },
  {
   "cell_type": "code",
   "execution_count": 87,
   "metadata": {
    "collapsed": false
   },
   "outputs": [
    {
     "data": {
      "text/html": [
       "<div>\n",
       "<table border=\"1\" class=\"dataframe\">\n",
       "  <thead>\n",
       "    <tr style=\"text-align: right;\">\n",
       "      <th></th>\n",
       "      <th>Census Tract</th>\n",
       "      <th>Estimated typical (median) age of all people between 2010-2014.</th>\n",
       "      <th>BoroCT2010</th>\n",
       "    </tr>\n",
       "  </thead>\n",
       "  <tbody>\n",
       "    <tr>\n",
       "      <th>75</th>\n",
       "      <td>36061009900, NY</td>\n",
       "      <td>33.0</td>\n",
       "      <td>1009900</td>\n",
       "    </tr>\n",
       "    <tr>\n",
       "      <th>89</th>\n",
       "      <td>36081019900, NY</td>\n",
       "      <td>35.0</td>\n",
       "      <td>1019900</td>\n",
       "    </tr>\n",
       "    <tr>\n",
       "      <th>142</th>\n",
       "      <td>36061006200, NY</td>\n",
       "      <td>34.0</td>\n",
       "      <td>1006200</td>\n",
       "    </tr>\n",
       "    <tr>\n",
       "      <th>146</th>\n",
       "      <td>36061016200, NY</td>\n",
       "      <td>35.0</td>\n",
       "      <td>1016200</td>\n",
       "    </tr>\n",
       "    <tr>\n",
       "      <th>160</th>\n",
       "      <td>36061025500, NY</td>\n",
       "      <td>31.0</td>\n",
       "      <td>1025500</td>\n",
       "    </tr>\n",
       "  </tbody>\n",
       "</table>\n",
       "</div>"
      ],
      "text/plain": [
       "        Census Tract  \\\n",
       "75   36061009900, NY   \n",
       "89   36081019900, NY   \n",
       "142  36061006200, NY   \n",
       "146  36061016200, NY   \n",
       "160  36061025500, NY   \n",
       "\n",
       "     Estimated typical (median) age of all people between 2010-2014.  \\\n",
       "75                                                33.0                 \n",
       "89                                                35.0                 \n",
       "142                                               34.0                 \n",
       "146                                               35.0                 \n",
       "160                                               31.0                 \n",
       "\n",
       "    BoroCT2010  \n",
       "75     1009900  \n",
       "89     1019900  \n",
       "142    1006200  \n",
       "146    1016200  \n",
       "160    1025500  "
      ]
     },
     "execution_count": 87,
     "metadata": {},
     "output_type": "execute_result"
    }
   ],
   "source": [
    "modified_ct_medianage.head()"
   ]
  },
  {
   "cell_type": "code",
   "execution_count": 88,
   "metadata": {
    "collapsed": false
   },
   "outputs": [
    {
     "data": {
      "text/plain": [
       "(249,)"
      ]
     },
     "execution_count": 88,
     "metadata": {},
     "output_type": "execute_result"
    }
   ],
   "source": [
    "modified_ct_medianage.BoroCT2010.unique().shape"
   ]
  },
  {
   "cell_type": "code",
   "execution_count": 89,
   "metadata": {
    "collapsed": false
   },
   "outputs": [],
   "source": [
    "modified_ct_medianage = modified_ct_medianage.groupby('BoroCT2010', as_index=False).mean()"
   ]
  },
  {
   "cell_type": "code",
   "execution_count": 90,
   "metadata": {
    "collapsed": false
   },
   "outputs": [
    {
     "data": {
      "text/html": [
       "<div>\n",
       "<table border=\"1\" class=\"dataframe\">\n",
       "  <thead>\n",
       "    <tr style=\"text-align: right;\">\n",
       "      <th></th>\n",
       "      <th>BoroCT2010</th>\n",
       "      <th>Estimated typical (median) age of all people between 2010-2014.</th>\n",
       "    </tr>\n",
       "  </thead>\n",
       "  <tbody>\n",
       "    <tr>\n",
       "      <th>0</th>\n",
       "      <td>1000202</td>\n",
       "      <td>44.0</td>\n",
       "    </tr>\n",
       "    <tr>\n",
       "      <th>1</th>\n",
       "      <td>1000600</td>\n",
       "      <td>38.5</td>\n",
       "    </tr>\n",
       "    <tr>\n",
       "      <th>2</th>\n",
       "      <td>1000700</td>\n",
       "      <td>32.5</td>\n",
       "    </tr>\n",
       "    <tr>\n",
       "      <th>3</th>\n",
       "      <td>1000800</td>\n",
       "      <td>39.5</td>\n",
       "    </tr>\n",
       "    <tr>\n",
       "      <th>4</th>\n",
       "      <td>1000900</td>\n",
       "      <td>33.0</td>\n",
       "    </tr>\n",
       "  </tbody>\n",
       "</table>\n",
       "</div>"
      ],
      "text/plain": [
       "  BoroCT2010  Estimated typical (median) age of all people between 2010-2014.\n",
       "0    1000202                                               44.0              \n",
       "1    1000600                                               38.5              \n",
       "2    1000700                                               32.5              \n",
       "3    1000800                                               39.5              \n",
       "4    1000900                                               33.0              "
      ]
     },
     "execution_count": 90,
     "metadata": {},
     "output_type": "execute_result"
    }
   ],
   "source": [
    "modified_ct_medianage.head()"
   ]
  },
  {
   "cell_type": "code",
   "execution_count": 91,
   "metadata": {
    "collapsed": false
   },
   "outputs": [
    {
     "data": {
      "text/plain": [
       "<bound method Series.count of lonlat\n",
       "(-74.003451, 40.753729)      2\n",
       "(-73.998436, 40.750561)      2\n",
       "(-73.977498, 40.761912)      2\n",
       "(-73.974464, 40.756866)      2\n",
       "(-73.961672, 40.774151)      2\n",
       "(-73.948726, 40.744844)      3\n",
       "(-73.937715, 40.758277)      5\n",
       "(-73.781965, 40.644702)      2\n",
       "(0.0, 0.0)                 277\n",
       "Name: geometry, dtype: int64>"
      ]
     },
     "execution_count": 91,
     "metadata": {},
     "output_type": "execute_result"
    }
   ],
   "source": [
    "checkcounts()"
   ]
  },
  {
   "cell_type": "code",
   "execution_count": 92,
   "metadata": {
    "collapsed": false
   },
   "outputs": [
    {
     "data": {
      "text/plain": [
       "(484,)"
      ]
     },
     "execution_count": 92,
     "metadata": {},
     "output_type": "execute_result"
    }
   ],
   "source": [
    "taxi_new_2014_1_rand['BoroCT2010'].unique().shape"
   ]
  },
  {
   "cell_type": "code",
   "execution_count": 93,
   "metadata": {
    "collapsed": false
   },
   "outputs": [
    {
     "data": {
      "text/plain": [
       "(249,)"
      ]
     },
     "execution_count": 93,
     "metadata": {},
     "output_type": "execute_result"
    }
   ],
   "source": [
    "modified_ct_medianage['BoroCT2010'].unique().shape"
   ]
  },
  {
   "cell_type": "code",
   "execution_count": 94,
   "metadata": {
    "collapsed": false
   },
   "outputs": [],
   "source": [
    "taxi_new_2014_1_rand_merge = taxi_new_2014_1_rand.merge(modified_ct_medianage, on = \"BoroCT2010\", how = \"inner\")"
   ]
  },
  {
   "cell_type": "code",
   "execution_count": 95,
   "metadata": {
    "collapsed": false
   },
   "outputs": [
    {
     "data": {
      "text/plain": [
       "<bound method Series.count of lonlat\n",
       "(-74.003451, 40.753729)    2\n",
       "(-73.998436, 40.750561)    2\n",
       "(-73.977498, 40.761912)    2\n",
       "(-73.974464, 40.756866)    2\n",
       "(-73.961672, 40.774151)    2\n",
       "Name: geometry, dtype: int64>"
      ]
     },
     "execution_count": 95,
     "metadata": {},
     "output_type": "execute_result"
    }
   ],
   "source": [
    "checkcounts(df = taxi_new_2014_1_rand_merge)"
   ]
  },
  {
   "cell_type": "markdown",
   "metadata": {},
   "source": [
    "## lonlat drop??"
   ]
  },
  {
   "cell_type": "code",
   "execution_count": 96,
   "metadata": {
    "collapsed": false
   },
   "outputs": [
    {
     "data": {
      "text/plain": [
       "(18288,)"
      ]
     },
     "execution_count": 96,
     "metadata": {},
     "output_type": "execute_result"
    }
   ],
   "source": [
    "taxi_new_2014_1_rand_merge.lonlat.unique().shape"
   ]
  },
  {
   "cell_type": "markdown",
   "metadata": {},
   "source": [
    "## income "
   ]
  },
  {
   "cell_type": "code",
   "execution_count": 97,
   "metadata": {
    "collapsed": false
   },
   "outputs": [
    {
     "data": {
      "text/plain": [
       "(2179, 4)"
      ]
     },
     "execution_count": 97,
     "metadata": {},
     "output_type": "execute_result"
    }
   ],
   "source": [
    "medianincome = pd.read_csv(\"ttp2.csv\")\n",
    "medianincome.head()\n",
    "medianincome.shape"
   ]
  },
  {
   "cell_type": "code",
   "execution_count": 98,
   "metadata": {
    "collapsed": false
   },
   "outputs": [
    {
     "data": {
      "text/html": [
       "<div>\n",
       "<table border=\"1\" class=\"dataframe\">\n",
       "  <thead>\n",
       "    <tr style=\"text-align: right;\">\n",
       "      <th></th>\n",
       "      <th>Census Tract</th>\n",
       "      <th>FIPS Code</th>\n",
       "      <th>Formatted FIPS</th>\n",
       "      <th>Estimated per capita income between 2010-2014.</th>\n",
       "    </tr>\n",
       "  </thead>\n",
       "  <tbody>\n",
       "    <tr>\n",
       "      <th>0</th>\n",
       "      <td>36081990100, NY</td>\n",
       "      <td>3.608199e+10</td>\n",
       "      <td>3.608199e+10</td>\n",
       "      <td>NaN</td>\n",
       "    </tr>\n",
       "    <tr>\n",
       "      <th>1</th>\n",
       "      <td>36085990100, NY</td>\n",
       "      <td>3.608599e+10</td>\n",
       "      <td>3.608599e+10</td>\n",
       "      <td>NaN</td>\n",
       "    </tr>\n",
       "    <tr>\n",
       "      <th>2</th>\n",
       "      <td>36081107202, NY</td>\n",
       "      <td>3.608111e+10</td>\n",
       "      <td>3.608111e+10</td>\n",
       "      <td>NaN</td>\n",
       "    </tr>\n",
       "    <tr>\n",
       "      <th>3</th>\n",
       "      <td>36047070203, NY</td>\n",
       "      <td>3.604707e+10</td>\n",
       "      <td>3.604707e+10</td>\n",
       "      <td>NaN</td>\n",
       "    </tr>\n",
       "    <tr>\n",
       "      <th>4</th>\n",
       "      <td>36081071600, NY</td>\n",
       "      <td>3.608107e+10</td>\n",
       "      <td>3.608107e+10</td>\n",
       "      <td>NaN</td>\n",
       "    </tr>\n",
       "  </tbody>\n",
       "</table>\n",
       "</div>"
      ],
      "text/plain": [
       "      Census Tract     FIPS Code  Formatted FIPS  \\\n",
       "0  36081990100, NY  3.608199e+10    3.608199e+10   \n",
       "1  36085990100, NY  3.608599e+10    3.608599e+10   \n",
       "2  36081107202, NY  3.608111e+10    3.608111e+10   \n",
       "3  36047070203, NY  3.604707e+10    3.604707e+10   \n",
       "4  36081071600, NY  3.608107e+10    3.608107e+10   \n",
       "\n",
       "   Estimated per capita income between 2010-2014.  \n",
       "0                                             NaN  \n",
       "1                                             NaN  \n",
       "2                                             NaN  \n",
       "3                                             NaN  \n",
       "4                                             NaN  "
      ]
     },
     "execution_count": 98,
     "metadata": {},
     "output_type": "execute_result"
    }
   ],
   "source": [
    "medianincome.head()"
   ]
  },
  {
   "cell_type": "code",
   "execution_count": 99,
   "metadata": {
    "collapsed": true
   },
   "outputs": [],
   "source": [
    "del medianincome['FIPS Code']\n",
    "del medianincome['Formatted FIPS']"
   ]
  },
  {
   "cell_type": "code",
   "execution_count": 100,
   "metadata": {
    "collapsed": false
   },
   "outputs": [
    {
     "data": {
      "text/plain": [
       "(2121, 2)"
      ]
     },
     "execution_count": 100,
     "metadata": {},
     "output_type": "execute_result"
    }
   ],
   "source": [
    "medianincome.dropna(inplace = True)\n",
    "medianincome.shape\n"
   ]
  },
  {
   "cell_type": "code",
   "execution_count": 101,
   "metadata": {
    "collapsed": false
   },
   "outputs": [],
   "source": [
    "medianincome[\"BoroCT2010\"] = medianincome['Census Tract'].apply(lambda x: str(x)[4:-4])"
   ]
  },
  {
   "cell_type": "code",
   "execution_count": 102,
   "metadata": {
    "collapsed": false
   },
   "outputs": [
    {
     "data": {
      "text/plain": [
       "1958"
      ]
     },
     "execution_count": 102,
     "metadata": {},
     "output_type": "execute_result"
    }
   ],
   "source": [
    "len(medianincome[\"BoroCT2010\"].unique())"
   ]
  },
  {
   "cell_type": "code",
   "execution_count": 103,
   "metadata": {
    "collapsed": false
   },
   "outputs": [
    {
     "data": {
      "text/plain": [
       "(1958, 2)"
      ]
     },
     "execution_count": 103,
     "metadata": {},
     "output_type": "execute_result"
    }
   ],
   "source": [
    "modified_medianincome_mean =  medianincome.groupby('BoroCT2010', as_index=False).mean()\n",
    "modified_medianincome_mean.shape"
   ]
  },
  {
   "cell_type": "code",
   "execution_count": 104,
   "metadata": {
    "collapsed": false
   },
   "outputs": [],
   "source": [
    "modified_ct_medianincome = modified_medianincome_mean[modified_medianincome_mean.BoroCT2010.isin(ct)]"
   ]
  },
  {
   "cell_type": "code",
   "execution_count": 105,
   "metadata": {
    "collapsed": false
   },
   "outputs": [
    {
     "data": {
      "text/plain": [
       "249"
      ]
     },
     "execution_count": 105,
     "metadata": {},
     "output_type": "execute_result"
    }
   ],
   "source": [
    "len(modified_ct_medianincome['BoroCT2010'])"
   ]
  },
  {
   "cell_type": "code",
   "execution_count": 106,
   "metadata": {
    "collapsed": false
   },
   "outputs": [
    {
     "data": {
      "text/plain": [
       "(249,)"
      ]
     },
     "execution_count": 106,
     "metadata": {},
     "output_type": "execute_result"
    }
   ],
   "source": [
    "medianincome.head()\n",
    "modified_ct_medianincome.BoroCT2010.unique().shape"
   ]
  },
  {
   "cell_type": "code",
   "execution_count": 108,
   "metadata": {
    "collapsed": false
   },
   "outputs": [],
   "source": [
    "modified_ct_medianincome.head()\n",
    "\n",
    "modified_ct_medianincome.index = range(0, 249, 1)"
   ]
  },
  {
   "cell_type": "code",
   "execution_count": 109,
   "metadata": {
    "collapsed": false
   },
   "outputs": [
    {
     "data": {
      "text/html": [
       "<div>\n",
       "<table border=\"1\" class=\"dataframe\">\n",
       "  <thead>\n",
       "    <tr style=\"text-align: right;\">\n",
       "      <th></th>\n",
       "      <th>BoroCT2010</th>\n",
       "      <th>Estimated per capita income between 2010-2014.</th>\n",
       "    </tr>\n",
       "  </thead>\n",
       "  <tbody>\n",
       "    <tr>\n",
       "      <th>0</th>\n",
       "      <td>1000202</td>\n",
       "      <td>20614.0</td>\n",
       "    </tr>\n",
       "    <tr>\n",
       "      <th>1</th>\n",
       "      <td>1000600</td>\n",
       "      <td>17838.0</td>\n",
       "    </tr>\n",
       "    <tr>\n",
       "      <th>2</th>\n",
       "      <td>1000700</td>\n",
       "      <td>76144.5</td>\n",
       "    </tr>\n",
       "    <tr>\n",
       "      <th>3</th>\n",
       "      <td>1000800</td>\n",
       "      <td>19224.0</td>\n",
       "    </tr>\n",
       "    <tr>\n",
       "      <th>4</th>\n",
       "      <td>1000900</td>\n",
       "      <td>115317.0</td>\n",
       "    </tr>\n",
       "    <tr>\n",
       "      <th>5</th>\n",
       "      <td>1001002</td>\n",
       "      <td>12939.0</td>\n",
       "    </tr>\n",
       "    <tr>\n",
       "      <th>6</th>\n",
       "      <td>1001200</td>\n",
       "      <td>33260.5</td>\n",
       "    </tr>\n",
       "    <tr>\n",
       "      <th>7</th>\n",
       "      <td>1001300</td>\n",
       "      <td>96903.0</td>\n",
       "    </tr>\n",
       "    <tr>\n",
       "      <th>8</th>\n",
       "      <td>1001401</td>\n",
       "      <td>62230.0</td>\n",
       "    </tr>\n",
       "    <tr>\n",
       "      <th>9</th>\n",
       "      <td>1001402</td>\n",
       "      <td>30503.0</td>\n",
       "    </tr>\n",
       "    <tr>\n",
       "      <th>10</th>\n",
       "      <td>1001501</td>\n",
       "      <td>79630.0</td>\n",
       "    </tr>\n",
       "    <tr>\n",
       "      <th>11</th>\n",
       "      <td>1001502</td>\n",
       "      <td>78400.0</td>\n",
       "    </tr>\n",
       "    <tr>\n",
       "      <th>12</th>\n",
       "      <td>1001600</td>\n",
       "      <td>23451.0</td>\n",
       "    </tr>\n",
       "    <tr>\n",
       "      <th>13</th>\n",
       "      <td>1001800</td>\n",
       "      <td>25222.0</td>\n",
       "    </tr>\n",
       "    <tr>\n",
       "      <th>14</th>\n",
       "      <td>1002000</td>\n",
       "      <td>18759.0</td>\n",
       "    </tr>\n",
       "    <tr>\n",
       "      <th>15</th>\n",
       "      <td>1002100</td>\n",
       "      <td>187314.0</td>\n",
       "    </tr>\n",
       "    <tr>\n",
       "      <th>16</th>\n",
       "      <td>1002201</td>\n",
       "      <td>26204.0</td>\n",
       "    </tr>\n",
       "    <tr>\n",
       "      <th>17</th>\n",
       "      <td>1002202</td>\n",
       "      <td>78740.0</td>\n",
       "    </tr>\n",
       "    <tr>\n",
       "      <th>18</th>\n",
       "      <td>1002500</td>\n",
       "      <td>14150.0</td>\n",
       "    </tr>\n",
       "    <tr>\n",
       "      <th>19</th>\n",
       "      <td>1002601</td>\n",
       "      <td>36559.0</td>\n",
       "    </tr>\n",
       "  </tbody>\n",
       "</table>\n",
       "</div>"
      ],
      "text/plain": [
       "   BoroCT2010  Estimated per capita income between 2010-2014.\n",
       "0     1000202                                         20614.0\n",
       "1     1000600                                         17838.0\n",
       "2     1000700                                         76144.5\n",
       "3     1000800                                         19224.0\n",
       "4     1000900                                        115317.0\n",
       "5     1001002                                         12939.0\n",
       "6     1001200                                         33260.5\n",
       "7     1001300                                         96903.0\n",
       "8     1001401                                         62230.0\n",
       "9     1001402                                         30503.0\n",
       "10    1001501                                         79630.0\n",
       "11    1001502                                         78400.0\n",
       "12    1001600                                         23451.0\n",
       "13    1001800                                         25222.0\n",
       "14    1002000                                         18759.0\n",
       "15    1002100                                        187314.0\n",
       "16    1002201                                         26204.0\n",
       "17    1002202                                         78740.0\n",
       "18    1002500                                         14150.0\n",
       "19    1002601                                         36559.0"
      ]
     },
     "execution_count": 109,
     "metadata": {},
     "output_type": "execute_result"
    }
   ],
   "source": [
    "modified_ct_medianincome.head(20)"
   ]
  },
  {
   "cell_type": "code",
   "execution_count": 110,
   "metadata": {
    "collapsed": false
   },
   "outputs": [],
   "source": [
    "taxi_new_2014_1_rand_merge = taxi_new_2014_1_rand_merge.merge(modified_ct_medianincome, on = \"BoroCT2010\", how = \"inner\")"
   ]
  },
  {
   "cell_type": "code",
   "execution_count": 111,
   "metadata": {
    "collapsed": false,
    "scrolled": true
   },
   "outputs": [
    {
     "data": {
      "text/plain": [
       "<bound method Series.count of lonlat\n",
       "(-74.003451, 40.753729)    2\n",
       "(-73.998436, 40.750561)    2\n",
       "(-73.977498, 40.761912)    2\n",
       "(-73.974464, 40.756866)    2\n",
       "(-73.961672, 40.774151)    2\n",
       "Name: geometry, dtype: int64>"
      ]
     },
     "execution_count": 111,
     "metadata": {},
     "output_type": "execute_result"
    }
   ],
   "source": [
    "checkcounts(df = taxi_new_2014_1_rand_merge)"
   ]
  },
  {
   "cell_type": "code",
   "execution_count": 112,
   "metadata": {
    "collapsed": false
   },
   "outputs": [
    {
     "data": {
      "text/html": [
       "<div>\n",
       "<table border=\"1\" class=\"dataframe\">\n",
       "  <thead>\n",
       "    <tr style=\"text-align: right;\">\n",
       "      <th></th>\n",
       "      <th>pickup_datetime</th>\n",
       "      <th>dropoff_datetime</th>\n",
       "      <th>passenger_count</th>\n",
       "      <th>trip_distance</th>\n",
       "      <th>pickup_longitude</th>\n",
       "      <th>pickup_latitude</th>\n",
       "      <th>lonlat</th>\n",
       "      <th>geometry</th>\n",
       "      <th>BoroCT2010</th>\n",
       "      <th>sub_distances</th>\n",
       "      <th>safety</th>\n",
       "      <th>Estimated typical (median) age of all people between 2010-2014.</th>\n",
       "      <th>Estimated per capita income between 2010-2014.</th>\n",
       "    </tr>\n",
       "  </thead>\n",
       "  <tbody>\n",
       "    <tr>\n",
       "      <th>0</th>\n",
       "      <td>2014-01-12 18:13:00</td>\n",
       "      <td>2014-01-12 18:18:00</td>\n",
       "      <td>2</td>\n",
       "      <td>1.01</td>\n",
       "      <td>-73.963422</td>\n",
       "      <td>40.808540</td>\n",
       "      <td>(-73.963422, 40.80854)</td>\n",
       "      <td>POINT (-73.96342199999998 40.80854)</td>\n",
       "      <td>1020300</td>\n",
       "      <td>0.001069</td>\n",
       "      <td>26.517160</td>\n",
       "      <td>21.0</td>\n",
       "      <td>13445.0</td>\n",
       "    </tr>\n",
       "    <tr>\n",
       "      <th>1</th>\n",
       "      <td>2014-01-16 23:18:00</td>\n",
       "      <td>2014-01-16 23:36:00</td>\n",
       "      <td>1</td>\n",
       "      <td>6.62</td>\n",
       "      <td>-73.958860</td>\n",
       "      <td>40.810012</td>\n",
       "      <td>(-73.95886, 40.810012)</td>\n",
       "      <td>POINT (-73.95886 40.810012)</td>\n",
       "      <td>1020300</td>\n",
       "      <td>0.005590</td>\n",
       "      <td>22.277969</td>\n",
       "      <td>21.0</td>\n",
       "      <td>13445.0</td>\n",
       "    </tr>\n",
       "    <tr>\n",
       "      <th>2</th>\n",
       "      <td>2014-01-10 15:46:00</td>\n",
       "      <td>2014-01-10 16:03:00</td>\n",
       "      <td>1</td>\n",
       "      <td>2.57</td>\n",
       "      <td>-73.959645</td>\n",
       "      <td>40.809422</td>\n",
       "      <td>(-73.959645, 40.809422)</td>\n",
       "      <td>POINT (-73.95964499999998 40.809422)</td>\n",
       "      <td>1020300</td>\n",
       "      <td>0.004778</td>\n",
       "      <td>17.510906</td>\n",
       "      <td>21.0</td>\n",
       "      <td>13445.0</td>\n",
       "    </tr>\n",
       "    <tr>\n",
       "      <th>3</th>\n",
       "      <td>2014-01-16 18:05:09</td>\n",
       "      <td>2014-01-16 18:19:43</td>\n",
       "      <td>1</td>\n",
       "      <td>4.80</td>\n",
       "      <td>-73.961268</td>\n",
       "      <td>40.806660</td>\n",
       "      <td>(-73.961268, 40.80666)</td>\n",
       "      <td>POINT (-73.961268 40.80666)</td>\n",
       "      <td>1020300</td>\n",
       "      <td>0.003034</td>\n",
       "      <td>28.519764</td>\n",
       "      <td>21.0</td>\n",
       "      <td>13445.0</td>\n",
       "    </tr>\n",
       "    <tr>\n",
       "      <th>4</th>\n",
       "      <td>2014-01-22 08:21:00</td>\n",
       "      <td>2014-01-22 08:49:00</td>\n",
       "      <td>5</td>\n",
       "      <td>9.67</td>\n",
       "      <td>-73.961872</td>\n",
       "      <td>40.810782</td>\n",
       "      <td>(-73.961872, 40.810782)</td>\n",
       "      <td>POINT (-73.961872 40.810782)</td>\n",
       "      <td>1020300</td>\n",
       "      <td>0.003791</td>\n",
       "      <td>20.588381</td>\n",
       "      <td>21.0</td>\n",
       "      <td>13445.0</td>\n",
       "    </tr>\n",
       "  </tbody>\n",
       "</table>\n",
       "</div>"
      ],
      "text/plain": [
       "       pickup_datetime     dropoff_datetime   passenger_count   trip_distance  \\\n",
       "0  2014-01-12 18:13:00  2014-01-12 18:18:00                 2            1.01   \n",
       "1  2014-01-16 23:18:00  2014-01-16 23:36:00                 1            6.62   \n",
       "2  2014-01-10 15:46:00  2014-01-10 16:03:00                 1            2.57   \n",
       "3  2014-01-16 18:05:09  2014-01-16 18:19:43                 1            4.80   \n",
       "4  2014-01-22 08:21:00  2014-01-22 08:49:00                 5            9.67   \n",
       "\n",
       "    pickup_longitude   pickup_latitude                   lonlat  \\\n",
       "0         -73.963422         40.808540   (-73.963422, 40.80854)   \n",
       "1         -73.958860         40.810012   (-73.95886, 40.810012)   \n",
       "2         -73.959645         40.809422  (-73.959645, 40.809422)   \n",
       "3         -73.961268         40.806660   (-73.961268, 40.80666)   \n",
       "4         -73.961872         40.810782  (-73.961872, 40.810782)   \n",
       "\n",
       "                               geometry BoroCT2010  sub_distances     safety  \\\n",
       "0   POINT (-73.96342199999998 40.80854)    1020300       0.001069  26.517160   \n",
       "1           POINT (-73.95886 40.810012)    1020300       0.005590  22.277969   \n",
       "2  POINT (-73.95964499999998 40.809422)    1020300       0.004778  17.510906   \n",
       "3           POINT (-73.961268 40.80666)    1020300       0.003034  28.519764   \n",
       "4          POINT (-73.961872 40.810782)    1020300       0.003791  20.588381   \n",
       "\n",
       "   Estimated typical (median) age of all people between 2010-2014.  \\\n",
       "0                                               21.0                 \n",
       "1                                               21.0                 \n",
       "2                                               21.0                 \n",
       "3                                               21.0                 \n",
       "4                                               21.0                 \n",
       "\n",
       "   Estimated per capita income between 2010-2014.  \n",
       "0                                         13445.0  \n",
       "1                                         13445.0  \n",
       "2                                         13445.0  \n",
       "3                                         13445.0  \n",
       "4                                         13445.0  "
      ]
     },
     "execution_count": 112,
     "metadata": {},
     "output_type": "execute_result"
    }
   ],
   "source": [
    "taxi_new_2014_1_rand_merge.head()"
   ]
  },
  {
   "cell_type": "code",
   "execution_count": 113,
   "metadata": {
    "collapsed": true
   },
   "outputs": [],
   "source": [
    "taxi_new_2014_1_rand_merge = taxi_new_2014_1_rand_merge.rename(columns\\\n",
    "                                            = {'Estimated typical (median) age of all people between 2010-2014.':'age'})"
   ]
  },
  {
   "cell_type": "code",
   "execution_count": 114,
   "metadata": {
    "collapsed": true
   },
   "outputs": [],
   "source": [
    "taxi_new_2014_1_rand_merge = taxi_new_2014_1_rand_merge.rename(columns\\\n",
    "                                            = {'Estimated per capita income between 2010-2014.':'income'})"
   ]
  },
  {
   "cell_type": "code",
   "execution_count": 115,
   "metadata": {
    "collapsed": false
   },
   "outputs": [
    {
     "data": {
      "text/html": [
       "<div>\n",
       "<table border=\"1\" class=\"dataframe\">\n",
       "  <thead>\n",
       "    <tr style=\"text-align: right;\">\n",
       "      <th></th>\n",
       "      <th>pickup_datetime</th>\n",
       "      <th>dropoff_datetime</th>\n",
       "      <th>passenger_count</th>\n",
       "      <th>trip_distance</th>\n",
       "      <th>pickup_longitude</th>\n",
       "      <th>pickup_latitude</th>\n",
       "      <th>lonlat</th>\n",
       "      <th>geometry</th>\n",
       "      <th>BoroCT2010</th>\n",
       "      <th>sub_distances</th>\n",
       "      <th>safety</th>\n",
       "      <th>age</th>\n",
       "      <th>income</th>\n",
       "    </tr>\n",
       "  </thead>\n",
       "  <tbody>\n",
       "    <tr>\n",
       "      <th>0</th>\n",
       "      <td>2014-01-12 18:13:00</td>\n",
       "      <td>2014-01-12 18:18:00</td>\n",
       "      <td>2</td>\n",
       "      <td>1.01</td>\n",
       "      <td>-73.963422</td>\n",
       "      <td>40.808540</td>\n",
       "      <td>(-73.963422, 40.80854)</td>\n",
       "      <td>POINT (-73.96342199999998 40.80854)</td>\n",
       "      <td>1020300</td>\n",
       "      <td>0.001069</td>\n",
       "      <td>26.517160</td>\n",
       "      <td>21.0</td>\n",
       "      <td>13445.0</td>\n",
       "    </tr>\n",
       "    <tr>\n",
       "      <th>1</th>\n",
       "      <td>2014-01-16 23:18:00</td>\n",
       "      <td>2014-01-16 23:36:00</td>\n",
       "      <td>1</td>\n",
       "      <td>6.62</td>\n",
       "      <td>-73.958860</td>\n",
       "      <td>40.810012</td>\n",
       "      <td>(-73.95886, 40.810012)</td>\n",
       "      <td>POINT (-73.95886 40.810012)</td>\n",
       "      <td>1020300</td>\n",
       "      <td>0.005590</td>\n",
       "      <td>22.277969</td>\n",
       "      <td>21.0</td>\n",
       "      <td>13445.0</td>\n",
       "    </tr>\n",
       "    <tr>\n",
       "      <th>2</th>\n",
       "      <td>2014-01-10 15:46:00</td>\n",
       "      <td>2014-01-10 16:03:00</td>\n",
       "      <td>1</td>\n",
       "      <td>2.57</td>\n",
       "      <td>-73.959645</td>\n",
       "      <td>40.809422</td>\n",
       "      <td>(-73.959645, 40.809422)</td>\n",
       "      <td>POINT (-73.95964499999998 40.809422)</td>\n",
       "      <td>1020300</td>\n",
       "      <td>0.004778</td>\n",
       "      <td>17.510906</td>\n",
       "      <td>21.0</td>\n",
       "      <td>13445.0</td>\n",
       "    </tr>\n",
       "    <tr>\n",
       "      <th>3</th>\n",
       "      <td>2014-01-16 18:05:09</td>\n",
       "      <td>2014-01-16 18:19:43</td>\n",
       "      <td>1</td>\n",
       "      <td>4.80</td>\n",
       "      <td>-73.961268</td>\n",
       "      <td>40.806660</td>\n",
       "      <td>(-73.961268, 40.80666)</td>\n",
       "      <td>POINT (-73.961268 40.80666)</td>\n",
       "      <td>1020300</td>\n",
       "      <td>0.003034</td>\n",
       "      <td>28.519764</td>\n",
       "      <td>21.0</td>\n",
       "      <td>13445.0</td>\n",
       "    </tr>\n",
       "    <tr>\n",
       "      <th>4</th>\n",
       "      <td>2014-01-22 08:21:00</td>\n",
       "      <td>2014-01-22 08:49:00</td>\n",
       "      <td>5</td>\n",
       "      <td>9.67</td>\n",
       "      <td>-73.961872</td>\n",
       "      <td>40.810782</td>\n",
       "      <td>(-73.961872, 40.810782)</td>\n",
       "      <td>POINT (-73.961872 40.810782)</td>\n",
       "      <td>1020300</td>\n",
       "      <td>0.003791</td>\n",
       "      <td>20.588381</td>\n",
       "      <td>21.0</td>\n",
       "      <td>13445.0</td>\n",
       "    </tr>\n",
       "  </tbody>\n",
       "</table>\n",
       "</div>"
      ],
      "text/plain": [
       "       pickup_datetime     dropoff_datetime   passenger_count   trip_distance  \\\n",
       "0  2014-01-12 18:13:00  2014-01-12 18:18:00                 2            1.01   \n",
       "1  2014-01-16 23:18:00  2014-01-16 23:36:00                 1            6.62   \n",
       "2  2014-01-10 15:46:00  2014-01-10 16:03:00                 1            2.57   \n",
       "3  2014-01-16 18:05:09  2014-01-16 18:19:43                 1            4.80   \n",
       "4  2014-01-22 08:21:00  2014-01-22 08:49:00                 5            9.67   \n",
       "\n",
       "    pickup_longitude   pickup_latitude                   lonlat  \\\n",
       "0         -73.963422         40.808540   (-73.963422, 40.80854)   \n",
       "1         -73.958860         40.810012   (-73.95886, 40.810012)   \n",
       "2         -73.959645         40.809422  (-73.959645, 40.809422)   \n",
       "3         -73.961268         40.806660   (-73.961268, 40.80666)   \n",
       "4         -73.961872         40.810782  (-73.961872, 40.810782)   \n",
       "\n",
       "                               geometry BoroCT2010  sub_distances     safety  \\\n",
       "0   POINT (-73.96342199999998 40.80854)    1020300       0.001069  26.517160   \n",
       "1           POINT (-73.95886 40.810012)    1020300       0.005590  22.277969   \n",
       "2  POINT (-73.95964499999998 40.809422)    1020300       0.004778  17.510906   \n",
       "3           POINT (-73.961268 40.80666)    1020300       0.003034  28.519764   \n",
       "4          POINT (-73.961872 40.810782)    1020300       0.003791  20.588381   \n",
       "\n",
       "    age   income  \n",
       "0  21.0  13445.0  \n",
       "1  21.0  13445.0  \n",
       "2  21.0  13445.0  \n",
       "3  21.0  13445.0  \n",
       "4  21.0  13445.0  "
      ]
     },
     "execution_count": 115,
     "metadata": {},
     "output_type": "execute_result"
    }
   ],
   "source": [
    "taxi_new_2014_1_rand_merge.head()"
   ]
  },
  {
   "cell_type": "code",
   "execution_count": 116,
   "metadata": {
    "collapsed": false
   },
   "outputs": [
    {
     "data": {
      "text/plain": [
       "(18293, 13)"
      ]
     },
     "execution_count": 116,
     "metadata": {},
     "output_type": "execute_result"
    }
   ],
   "source": [
    "taxi_new_2014_1_rand_merge.shape"
   ]
  },
  {
   "cell_type": "code",
   "execution_count": 117,
   "metadata": {
    "collapsed": false
   },
   "outputs": [
    {
     "data": {
      "text/html": [
       "<div>\n",
       "<table border=\"1\" class=\"dataframe\">\n",
       "  <thead>\n",
       "    <tr style=\"text-align: right;\">\n",
       "      <th></th>\n",
       "      <th>pickup_datetime</th>\n",
       "      <th>dropoff_datetime</th>\n",
       "      <th>passenger_count</th>\n",
       "      <th>trip_distance</th>\n",
       "      <th>pickup_longitude</th>\n",
       "      <th>pickup_latitude</th>\n",
       "      <th>lonlat</th>\n",
       "      <th>geometry</th>\n",
       "      <th>BoroCT2010</th>\n",
       "      <th>sub_distances</th>\n",
       "      <th>safety</th>\n",
       "      <th>age</th>\n",
       "      <th>income</th>\n",
       "    </tr>\n",
       "  </thead>\n",
       "  <tbody>\n",
       "    <tr>\n",
       "      <th>0</th>\n",
       "      <td>2014-01-12 18:13:00</td>\n",
       "      <td>2014-01-12 18:18:00</td>\n",
       "      <td>2</td>\n",
       "      <td>1.01</td>\n",
       "      <td>-73.963422</td>\n",
       "      <td>40.808540</td>\n",
       "      <td>(-73.963422, 40.80854)</td>\n",
       "      <td>POINT (-73.96342199999998 40.80854)</td>\n",
       "      <td>1020300</td>\n",
       "      <td>0.001069</td>\n",
       "      <td>26.517160</td>\n",
       "      <td>21.0</td>\n",
       "      <td>13445.0</td>\n",
       "    </tr>\n",
       "    <tr>\n",
       "      <th>1</th>\n",
       "      <td>2014-01-16 23:18:00</td>\n",
       "      <td>2014-01-16 23:36:00</td>\n",
       "      <td>1</td>\n",
       "      <td>6.62</td>\n",
       "      <td>-73.958860</td>\n",
       "      <td>40.810012</td>\n",
       "      <td>(-73.95886, 40.810012)</td>\n",
       "      <td>POINT (-73.95886 40.810012)</td>\n",
       "      <td>1020300</td>\n",
       "      <td>0.005590</td>\n",
       "      <td>22.277969</td>\n",
       "      <td>21.0</td>\n",
       "      <td>13445.0</td>\n",
       "    </tr>\n",
       "    <tr>\n",
       "      <th>2</th>\n",
       "      <td>2014-01-10 15:46:00</td>\n",
       "      <td>2014-01-10 16:03:00</td>\n",
       "      <td>1</td>\n",
       "      <td>2.57</td>\n",
       "      <td>-73.959645</td>\n",
       "      <td>40.809422</td>\n",
       "      <td>(-73.959645, 40.809422)</td>\n",
       "      <td>POINT (-73.95964499999998 40.809422)</td>\n",
       "      <td>1020300</td>\n",
       "      <td>0.004778</td>\n",
       "      <td>17.510906</td>\n",
       "      <td>21.0</td>\n",
       "      <td>13445.0</td>\n",
       "    </tr>\n",
       "    <tr>\n",
       "      <th>3</th>\n",
       "      <td>2014-01-16 18:05:09</td>\n",
       "      <td>2014-01-16 18:19:43</td>\n",
       "      <td>1</td>\n",
       "      <td>4.80</td>\n",
       "      <td>-73.961268</td>\n",
       "      <td>40.806660</td>\n",
       "      <td>(-73.961268, 40.80666)</td>\n",
       "      <td>POINT (-73.961268 40.80666)</td>\n",
       "      <td>1020300</td>\n",
       "      <td>0.003034</td>\n",
       "      <td>28.519764</td>\n",
       "      <td>21.0</td>\n",
       "      <td>13445.0</td>\n",
       "    </tr>\n",
       "    <tr>\n",
       "      <th>4</th>\n",
       "      <td>2014-01-22 08:21:00</td>\n",
       "      <td>2014-01-22 08:49:00</td>\n",
       "      <td>5</td>\n",
       "      <td>9.67</td>\n",
       "      <td>-73.961872</td>\n",
       "      <td>40.810782</td>\n",
       "      <td>(-73.961872, 40.810782)</td>\n",
       "      <td>POINT (-73.961872 40.810782)</td>\n",
       "      <td>1020300</td>\n",
       "      <td>0.003791</td>\n",
       "      <td>20.588381</td>\n",
       "      <td>21.0</td>\n",
       "      <td>13445.0</td>\n",
       "    </tr>\n",
       "  </tbody>\n",
       "</table>\n",
       "</div>"
      ],
      "text/plain": [
       "       pickup_datetime     dropoff_datetime   passenger_count   trip_distance  \\\n",
       "0  2014-01-12 18:13:00  2014-01-12 18:18:00                 2            1.01   \n",
       "1  2014-01-16 23:18:00  2014-01-16 23:36:00                 1            6.62   \n",
       "2  2014-01-10 15:46:00  2014-01-10 16:03:00                 1            2.57   \n",
       "3  2014-01-16 18:05:09  2014-01-16 18:19:43                 1            4.80   \n",
       "4  2014-01-22 08:21:00  2014-01-22 08:49:00                 5            9.67   \n",
       "\n",
       "    pickup_longitude   pickup_latitude                   lonlat  \\\n",
       "0         -73.963422         40.808540   (-73.963422, 40.80854)   \n",
       "1         -73.958860         40.810012   (-73.95886, 40.810012)   \n",
       "2         -73.959645         40.809422  (-73.959645, 40.809422)   \n",
       "3         -73.961268         40.806660   (-73.961268, 40.80666)   \n",
       "4         -73.961872         40.810782  (-73.961872, 40.810782)   \n",
       "\n",
       "                               geometry BoroCT2010  sub_distances     safety  \\\n",
       "0   POINT (-73.96342199999998 40.80854)    1020300       0.001069  26.517160   \n",
       "1           POINT (-73.95886 40.810012)    1020300       0.005590  22.277969   \n",
       "2  POINT (-73.95964499999998 40.809422)    1020300       0.004778  17.510906   \n",
       "3           POINT (-73.961268 40.80666)    1020300       0.003034  28.519764   \n",
       "4          POINT (-73.961872 40.810782)    1020300       0.003791  20.588381   \n",
       "\n",
       "    age   income  \n",
       "0  21.0  13445.0  \n",
       "1  21.0  13445.0  \n",
       "2  21.0  13445.0  \n",
       "3  21.0  13445.0  \n",
       "4  21.0  13445.0  "
      ]
     },
     "execution_count": 117,
     "metadata": {},
     "output_type": "execute_result"
    }
   ],
   "source": [
    "taxi_new_2014_1_rand_merge.head()"
   ]
  },
  {
   "cell_type": "code",
   "execution_count": 118,
   "metadata": {
    "collapsed": false
   },
   "outputs": [
    {
     "data": {
      "text/plain": [
       "<bound method Series.count of lonlat\n",
       "(-74.003451, 40.753729)    2\n",
       "(-73.998436, 40.750561)    2\n",
       "(-73.977498, 40.761912)    2\n",
       "(-73.974464, 40.756866)    2\n",
       "(-73.961672, 40.774151)    2\n",
       "Name: geometry, dtype: int64>"
      ]
     },
     "execution_count": 118,
     "metadata": {},
     "output_type": "execute_result"
    }
   ],
   "source": [
    "checkcounts(df = taxi_new_2014_1_rand_merge)"
   ]
  },
  {
   "cell_type": "code",
   "execution_count": 119,
   "metadata": {
    "collapsed": false
   },
   "outputs": [],
   "source": [
    "#taxi_2014_1_final = taxi_new_2014_1_rand_merge.iloc[:, 9:]"
   ]
  },
  {
   "cell_type": "code",
   "execution_count": 120,
   "metadata": {
    "collapsed": false
   },
   "outputs": [],
   "source": [
    "#checkcounts(df = taxi_2014_1_final)"
   ]
  },
  {
   "cell_type": "code",
   "execution_count": 121,
   "metadata": {
    "collapsed": true
   },
   "outputs": [],
   "source": [
    "#df = taxi_new_2014_1_rand_merge.groupby(['lonlat']).size().reset_index().rename(columns={0:'count'})"
   ]
  },
  {
   "cell_type": "code",
   "execution_count": 122,
   "metadata": {
    "collapsed": false
   },
   "outputs": [
    {
     "data": {
      "text/html": [
       "<div>\n",
       "<table border=\"1\" class=\"dataframe\">\n",
       "  <thead>\n",
       "    <tr style=\"text-align: right;\">\n",
       "      <th></th>\n",
       "      <th>lonlat</th>\n",
       "      <th>BoroCT2010</th>\n",
       "      <th>sub_distances</th>\n",
       "      <th>safety</th>\n",
       "      <th>age</th>\n",
       "      <th>income</th>\n",
       "    </tr>\n",
       "  </thead>\n",
       "  <tbody>\n",
       "    <tr>\n",
       "      <th>0</th>\n",
       "      <td>(-73.963422, 40.80854)</td>\n",
       "      <td>1020300</td>\n",
       "      <td>0.001069</td>\n",
       "      <td>26.517160</td>\n",
       "      <td>21.0</td>\n",
       "      <td>13445.0</td>\n",
       "    </tr>\n",
       "    <tr>\n",
       "      <th>1</th>\n",
       "      <td>(-73.95886, 40.810012)</td>\n",
       "      <td>1020300</td>\n",
       "      <td>0.005590</td>\n",
       "      <td>22.277969</td>\n",
       "      <td>21.0</td>\n",
       "      <td>13445.0</td>\n",
       "    </tr>\n",
       "    <tr>\n",
       "      <th>2</th>\n",
       "      <td>(-73.959645, 40.809422)</td>\n",
       "      <td>1020300</td>\n",
       "      <td>0.004778</td>\n",
       "      <td>17.510906</td>\n",
       "      <td>21.0</td>\n",
       "      <td>13445.0</td>\n",
       "    </tr>\n",
       "    <tr>\n",
       "      <th>3</th>\n",
       "      <td>(-73.961268, 40.80666)</td>\n",
       "      <td>1020300</td>\n",
       "      <td>0.003034</td>\n",
       "      <td>28.519764</td>\n",
       "      <td>21.0</td>\n",
       "      <td>13445.0</td>\n",
       "    </tr>\n",
       "    <tr>\n",
       "      <th>4</th>\n",
       "      <td>(-73.961872, 40.810782)</td>\n",
       "      <td>1020300</td>\n",
       "      <td>0.003791</td>\n",
       "      <td>20.588381</td>\n",
       "      <td>21.0</td>\n",
       "      <td>13445.0</td>\n",
       "    </tr>\n",
       "  </tbody>\n",
       "</table>\n",
       "</div>"
      ],
      "text/plain": [
       "                    lonlat BoroCT2010  sub_distances     safety   age   income\n",
       "0   (-73.963422, 40.80854)    1020300       0.001069  26.517160  21.0  13445.0\n",
       "1   (-73.95886, 40.810012)    1020300       0.005590  22.277969  21.0  13445.0\n",
       "2  (-73.959645, 40.809422)    1020300       0.004778  17.510906  21.0  13445.0\n",
       "3   (-73.961268, 40.80666)    1020300       0.003034  28.519764  21.0  13445.0\n",
       "4  (-73.961872, 40.810782)    1020300       0.003791  20.588381  21.0  13445.0"
      ]
     },
     "execution_count": 122,
     "metadata": {},
     "output_type": "execute_result"
    }
   ],
   "source": [
    "taxi_2014_1_ = taxi_new_2014_1_rand_merge.iloc[:, 6:]\n",
    "del taxi_2014_1_['geometry']\n",
    "taxi_2014_1_.head()"
   ]
  },
  {
   "cell_type": "code",
   "execution_count": 123,
   "metadata": {
    "collapsed": false
   },
   "outputs": [
    {
     "data": {
      "text/plain": [
       "0      1000202\n",
       "1      1000600\n",
       "2      1000700\n",
       "3      1000800\n",
       "4      1000900\n",
       "5      1001002\n",
       "6      1001200\n",
       "7      1001300\n",
       "8      1001401\n",
       "9      1001402\n",
       "10     1001501\n",
       "11     1001502\n",
       "12     1001600\n",
       "13     1001800\n",
       "14     1002000\n",
       "15     1002100\n",
       "16     1002201\n",
       "17     1002202\n",
       "18     1002500\n",
       "19     1002601\n",
       "20     1002602\n",
       "21     1002700\n",
       "22     1002800\n",
       "23     1002900\n",
       "24     1003001\n",
       "25     1003002\n",
       "26     1003100\n",
       "27     1003200\n",
       "28     1003300\n",
       "29     1003400\n",
       "        ...   \n",
       "219    1022500\n",
       "220    1022600\n",
       "221    1022700\n",
       "222    1022800\n",
       "223    1022900\n",
       "224    1023000\n",
       "225    1023100\n",
       "226    1023200\n",
       "227    1023300\n",
       "228    1023400\n",
       "229    1023700\n",
       "230    1023801\n",
       "231    1024100\n",
       "232    1024200\n",
       "233    1024500\n",
       "234    1024700\n",
       "235    1025100\n",
       "236    1025300\n",
       "237    1025500\n",
       "238    1025700\n",
       "239    1026300\n",
       "240    1026500\n",
       "241    1026900\n",
       "242    1027100\n",
       "243    1027300\n",
       "244    1029700\n",
       "245    1030300\n",
       "246    1030900\n",
       "247    1031703\n",
       "248    1031704\n",
       "Name: BoroCT2010, dtype: object"
      ]
     },
     "execution_count": 123,
     "metadata": {},
     "output_type": "execute_result"
    }
   ],
   "source": [
    "df = taxi_2014_1_.groupby(['BoroCT2010']).size().reset_index().rename(columns={0:'count'})\n",
    "df['BoroCT2010']"
   ]
  },
  {
   "cell_type": "code",
   "execution_count": 124,
   "metadata": {
    "collapsed": false
   },
   "outputs": [],
   "source": [
    "trp = taxi_new_2014_1_rand_merge.groupby(by = 'BoroCT2010', as_index=False).mean()"
   ]
  },
  {
   "cell_type": "code",
   "execution_count": 125,
   "metadata": {
    "collapsed": false
   },
   "outputs": [],
   "source": [
    "trp['count'] = df['count']"
   ]
  },
  {
   "cell_type": "code",
   "execution_count": 126,
   "metadata": {
    "collapsed": false
   },
   "outputs": [
    {
     "data": {
      "text/plain": [
       "(249, 10)"
      ]
     },
     "execution_count": 126,
     "metadata": {},
     "output_type": "execute_result"
    }
   ],
   "source": [
    "trp.shape"
   ]
  },
  {
   "cell_type": "code",
   "execution_count": 127,
   "metadata": {
    "collapsed": false
   },
   "outputs": [
    {
     "data": {
      "text/html": [
       "<div>\n",
       "<table border=\"1\" class=\"dataframe\">\n",
       "  <thead>\n",
       "    <tr style=\"text-align: right;\">\n",
       "      <th></th>\n",
       "      <th>BoroCT2010</th>\n",
       "      <th>passenger_count</th>\n",
       "      <th>trip_distance</th>\n",
       "      <th>pickup_longitude</th>\n",
       "      <th>pickup_latitude</th>\n",
       "      <th>sub_distances</th>\n",
       "      <th>safety</th>\n",
       "      <th>age</th>\n",
       "      <th>income</th>\n",
       "      <th>count</th>\n",
       "    </tr>\n",
       "  </thead>\n",
       "  <tbody>\n",
       "    <tr>\n",
       "      <th>0</th>\n",
       "      <td>1000202</td>\n",
       "      <td>4.333333</td>\n",
       "      <td>5.213333</td>\n",
       "      <td>-73.983244</td>\n",
       "      <td>40.711956</td>\n",
       "      <td>0.006864</td>\n",
       "      <td>20.148173</td>\n",
       "      <td>44.0</td>\n",
       "      <td>20614.0</td>\n",
       "      <td>3</td>\n",
       "    </tr>\n",
       "    <tr>\n",
       "      <th>1</th>\n",
       "      <td>1000600</td>\n",
       "      <td>1.500000</td>\n",
       "      <td>3.120000</td>\n",
       "      <td>-73.991282</td>\n",
       "      <td>40.713978</td>\n",
       "      <td>0.001187</td>\n",
       "      <td>28.386656</td>\n",
       "      <td>38.5</td>\n",
       "      <td>17838.0</td>\n",
       "      <td>4</td>\n",
       "    </tr>\n",
       "    <tr>\n",
       "      <th>2</th>\n",
       "      <td>1000700</td>\n",
       "      <td>1.471910</td>\n",
       "      <td>4.083708</td>\n",
       "      <td>-74.008435</td>\n",
       "      <td>40.705685</td>\n",
       "      <td>0.001917</td>\n",
       "      <td>23.227493</td>\n",
       "      <td>32.5</td>\n",
       "      <td>76144.5</td>\n",
       "      <td>89</td>\n",
       "    </tr>\n",
       "    <tr>\n",
       "      <th>3</th>\n",
       "      <td>1000800</td>\n",
       "      <td>1.250000</td>\n",
       "      <td>2.010000</td>\n",
       "      <td>-73.992607</td>\n",
       "      <td>40.713192</td>\n",
       "      <td>0.002633</td>\n",
       "      <td>27.275317</td>\n",
       "      <td>39.5</td>\n",
       "      <td>19224.0</td>\n",
       "      <td>4</td>\n",
       "    </tr>\n",
       "    <tr>\n",
       "      <th>4</th>\n",
       "      <td>1000900</td>\n",
       "      <td>1.842857</td>\n",
       "      <td>4.023857</td>\n",
       "      <td>-74.011347</td>\n",
       "      <td>40.703461</td>\n",
       "      <td>0.001749</td>\n",
       "      <td>24.077947</td>\n",
       "      <td>33.0</td>\n",
       "      <td>115317.0</td>\n",
       "      <td>70</td>\n",
       "    </tr>\n",
       "  </tbody>\n",
       "</table>\n",
       "</div>"
      ],
      "text/plain": [
       "  BoroCT2010   passenger_count   trip_distance   pickup_longitude  \\\n",
       "0    1000202          4.333333        5.213333         -73.983244   \n",
       "1    1000600          1.500000        3.120000         -73.991282   \n",
       "2    1000700          1.471910        4.083708         -74.008435   \n",
       "3    1000800          1.250000        2.010000         -73.992607   \n",
       "4    1000900          1.842857        4.023857         -74.011347   \n",
       "\n",
       "    pickup_latitude  sub_distances     safety   age    income  count  \n",
       "0         40.711956       0.006864  20.148173  44.0   20614.0      3  \n",
       "1         40.713978       0.001187  28.386656  38.5   17838.0      4  \n",
       "2         40.705685       0.001917  23.227493  32.5   76144.5     89  \n",
       "3         40.713192       0.002633  27.275317  39.5   19224.0      4  \n",
       "4         40.703461       0.001749  24.077947  33.0  115317.0     70  "
      ]
     },
     "execution_count": 127,
     "metadata": {},
     "output_type": "execute_result"
    }
   ],
   "source": [
    "trp.head()"
   ]
  },
  {
   "cell_type": "code",
   "execution_count": 128,
   "metadata": {
    "collapsed": false
   },
   "outputs": [
    {
     "data": {
      "text/plain": [
       "(249, 10)"
      ]
     },
     "execution_count": 128,
     "metadata": {},
     "output_type": "execute_result"
    }
   ],
   "source": [
    "trp.shape"
   ]
  },
  {
   "cell_type": "code",
   "execution_count": 129,
   "metadata": {
    "collapsed": false,
    "scrolled": true
   },
   "outputs": [
    {
     "data": {
      "text/html": [
       "<div>\n",
       "<table border=\"1\" class=\"dataframe\">\n",
       "  <thead>\n",
       "    <tr style=\"text-align: right;\">\n",
       "      <th></th>\n",
       "      <th>sub_distances</th>\n",
       "      <th>safety</th>\n",
       "      <th>age</th>\n",
       "      <th>income</th>\n",
       "      <th>count</th>\n",
       "    </tr>\n",
       "  </thead>\n",
       "  <tbody>\n",
       "    <tr>\n",
       "      <th>0</th>\n",
       "      <td>0.006864</td>\n",
       "      <td>20.148173</td>\n",
       "      <td>44.0</td>\n",
       "      <td>20614.0</td>\n",
       "      <td>3</td>\n",
       "    </tr>\n",
       "    <tr>\n",
       "      <th>1</th>\n",
       "      <td>0.001187</td>\n",
       "      <td>28.386656</td>\n",
       "      <td>38.5</td>\n",
       "      <td>17838.0</td>\n",
       "      <td>4</td>\n",
       "    </tr>\n",
       "    <tr>\n",
       "      <th>2</th>\n",
       "      <td>0.001917</td>\n",
       "      <td>23.227493</td>\n",
       "      <td>32.5</td>\n",
       "      <td>76144.5</td>\n",
       "      <td>89</td>\n",
       "    </tr>\n",
       "    <tr>\n",
       "      <th>3</th>\n",
       "      <td>0.002633</td>\n",
       "      <td>27.275317</td>\n",
       "      <td>39.5</td>\n",
       "      <td>19224.0</td>\n",
       "      <td>4</td>\n",
       "    </tr>\n",
       "    <tr>\n",
       "      <th>4</th>\n",
       "      <td>0.001749</td>\n",
       "      <td>24.077947</td>\n",
       "      <td>33.0</td>\n",
       "      <td>115317.0</td>\n",
       "      <td>70</td>\n",
       "    </tr>\n",
       "    <tr>\n",
       "      <th>5</th>\n",
       "      <td>0.010370</td>\n",
       "      <td>27.739248</td>\n",
       "      <td>39.0</td>\n",
       "      <td>12939.0</td>\n",
       "      <td>3</td>\n",
       "    </tr>\n",
       "    <tr>\n",
       "      <th>6</th>\n",
       "      <td>0.006158</td>\n",
       "      <td>33.734429</td>\n",
       "      <td>42.0</td>\n",
       "      <td>33260.5</td>\n",
       "      <td>3</td>\n",
       "    </tr>\n",
       "    <tr>\n",
       "      <th>7</th>\n",
       "      <td>0.001221</td>\n",
       "      <td>25.594175</td>\n",
       "      <td>31.0</td>\n",
       "      <td>96903.0</td>\n",
       "      <td>80</td>\n",
       "    </tr>\n",
       "    <tr>\n",
       "      <th>8</th>\n",
       "      <td>0.003170</td>\n",
       "      <td>22.446960</td>\n",
       "      <td>46.0</td>\n",
       "      <td>62230.0</td>\n",
       "      <td>3</td>\n",
       "    </tr>\n",
       "    <tr>\n",
       "      <th>9</th>\n",
       "      <td>0.001414</td>\n",
       "      <td>23.643079</td>\n",
       "      <td>39.0</td>\n",
       "      <td>30503.0</td>\n",
       "      <td>15</td>\n",
       "    </tr>\n",
       "    <tr>\n",
       "      <th>10</th>\n",
       "      <td>0.002759</td>\n",
       "      <td>25.089731</td>\n",
       "      <td>45.0</td>\n",
       "      <td>79630.0</td>\n",
       "      <td>38</td>\n",
       "    </tr>\n",
       "    <tr>\n",
       "      <th>11</th>\n",
       "      <td>0.002203</td>\n",
       "      <td>26.941747</td>\n",
       "      <td>28.0</td>\n",
       "      <td>78400.0</td>\n",
       "      <td>50</td>\n",
       "    </tr>\n",
       "    <tr>\n",
       "      <th>12</th>\n",
       "      <td>0.002827</td>\n",
       "      <td>27.472875</td>\n",
       "      <td>38.5</td>\n",
       "      <td>23451.0</td>\n",
       "      <td>32</td>\n",
       "    </tr>\n",
       "    <tr>\n",
       "      <th>13</th>\n",
       "      <td>0.001264</td>\n",
       "      <td>26.267737</td>\n",
       "      <td>33.5</td>\n",
       "      <td>25222.0</td>\n",
       "      <td>141</td>\n",
       "    </tr>\n",
       "    <tr>\n",
       "      <th>14</th>\n",
       "      <td>0.009888</td>\n",
       "      <td>24.098167</td>\n",
       "      <td>38.5</td>\n",
       "      <td>18759.0</td>\n",
       "      <td>2</td>\n",
       "    </tr>\n",
       "    <tr>\n",
       "      <th>15</th>\n",
       "      <td>0.001304</td>\n",
       "      <td>24.219644</td>\n",
       "      <td>35.0</td>\n",
       "      <td>187314.0</td>\n",
       "      <td>118</td>\n",
       "    </tr>\n",
       "    <tr>\n",
       "      <th>16</th>\n",
       "      <td>0.004574</td>\n",
       "      <td>29.593717</td>\n",
       "      <td>40.0</td>\n",
       "      <td>26204.0</td>\n",
       "      <td>8</td>\n",
       "    </tr>\n",
       "    <tr>\n",
       "      <th>17</th>\n",
       "      <td>0.006652</td>\n",
       "      <td>23.580598</td>\n",
       "      <td>33.0</td>\n",
       "      <td>78740.0</td>\n",
       "      <td>15</td>\n",
       "    </tr>\n",
       "    <tr>\n",
       "      <th>18</th>\n",
       "      <td>0.007619</td>\n",
       "      <td>18.832508</td>\n",
       "      <td>40.0</td>\n",
       "      <td>14150.0</td>\n",
       "      <td>1</td>\n",
       "    </tr>\n",
       "    <tr>\n",
       "      <th>19</th>\n",
       "      <td>0.007800</td>\n",
       "      <td>26.696217</td>\n",
       "      <td>38.0</td>\n",
       "      <td>36559.0</td>\n",
       "      <td>9</td>\n",
       "    </tr>\n",
       "    <tr>\n",
       "      <th>20</th>\n",
       "      <td>0.006729</td>\n",
       "      <td>25.346976</td>\n",
       "      <td>39.0</td>\n",
       "      <td>54503.0</td>\n",
       "      <td>16</td>\n",
       "    </tr>\n",
       "    <tr>\n",
       "      <th>21</th>\n",
       "      <td>0.004458</td>\n",
       "      <td>25.352120</td>\n",
       "      <td>49.0</td>\n",
       "      <td>36251.0</td>\n",
       "      <td>6</td>\n",
       "    </tr>\n",
       "    <tr>\n",
       "      <th>22</th>\n",
       "      <td>0.005481</td>\n",
       "      <td>27.484612</td>\n",
       "      <td>35.0</td>\n",
       "      <td>24418.0</td>\n",
       "      <td>23</td>\n",
       "    </tr>\n",
       "    <tr>\n",
       "      <th>23</th>\n",
       "      <td>0.002236</td>\n",
       "      <td>25.876020</td>\n",
       "      <td>44.0</td>\n",
       "      <td>23966.0</td>\n",
       "      <td>33</td>\n",
       "    </tr>\n",
       "    <tr>\n",
       "      <th>24</th>\n",
       "      <td>0.002282</td>\n",
       "      <td>26.009567</td>\n",
       "      <td>32.0</td>\n",
       "      <td>58954.0</td>\n",
       "      <td>106</td>\n",
       "    </tr>\n",
       "    <tr>\n",
       "      <th>25</th>\n",
       "      <td>0.003738</td>\n",
       "      <td>25.314629</td>\n",
       "      <td>39.0</td>\n",
       "      <td>43058.0</td>\n",
       "      <td>59</td>\n",
       "    </tr>\n",
       "    <tr>\n",
       "      <th>26</th>\n",
       "      <td>0.001213</td>\n",
       "      <td>25.022734</td>\n",
       "      <td>30.5</td>\n",
       "      <td>49153.0</td>\n",
       "      <td>40</td>\n",
       "    </tr>\n",
       "    <tr>\n",
       "      <th>27</th>\n",
       "      <td>0.005131</td>\n",
       "      <td>25.556614</td>\n",
       "      <td>35.0</td>\n",
       "      <td>36744.0</td>\n",
       "      <td>118</td>\n",
       "    </tr>\n",
       "    <tr>\n",
       "      <th>28</th>\n",
       "      <td>0.001562</td>\n",
       "      <td>24.468694</td>\n",
       "      <td>34.5</td>\n",
       "      <td>114286.0</td>\n",
       "      <td>145</td>\n",
       "    </tr>\n",
       "    <tr>\n",
       "      <th>29</th>\n",
       "      <td>0.002146</td>\n",
       "      <td>25.150588</td>\n",
       "      <td>35.0</td>\n",
       "      <td>44155.0</td>\n",
       "      <td>81</td>\n",
       "    </tr>\n",
       "    <tr>\n",
       "      <th>...</th>\n",
       "      <td>...</td>\n",
       "      <td>...</td>\n",
       "      <td>...</td>\n",
       "      <td>...</td>\n",
       "      <td>...</td>\n",
       "    </tr>\n",
       "    <tr>\n",
       "      <th>217</th>\n",
       "      <td>0.003161</td>\n",
       "      <td>19.652639</td>\n",
       "      <td>35.0</td>\n",
       "      <td>17546.0</td>\n",
       "      <td>2</td>\n",
       "    </tr>\n",
       "    <tr>\n",
       "      <th>218</th>\n",
       "      <td>0.002412</td>\n",
       "      <td>23.148342</td>\n",
       "      <td>31.0</td>\n",
       "      <td>17452.0</td>\n",
       "      <td>3</td>\n",
       "    </tr>\n",
       "    <tr>\n",
       "      <th>219</th>\n",
       "      <td>0.001722</td>\n",
       "      <td>26.205299</td>\n",
       "      <td>35.0</td>\n",
       "      <td>21129.0</td>\n",
       "      <td>4</td>\n",
       "    </tr>\n",
       "    <tr>\n",
       "      <th>220</th>\n",
       "      <td>0.003061</td>\n",
       "      <td>25.540718</td>\n",
       "      <td>37.0</td>\n",
       "      <td>28440.0</td>\n",
       "      <td>2</td>\n",
       "    </tr>\n",
       "    <tr>\n",
       "      <th>221</th>\n",
       "      <td>0.001283</td>\n",
       "      <td>27.650692</td>\n",
       "      <td>33.0</td>\n",
       "      <td>30653.0</td>\n",
       "      <td>1</td>\n",
       "    </tr>\n",
       "    <tr>\n",
       "      <th>222</th>\n",
       "      <td>0.002278</td>\n",
       "      <td>26.606409</td>\n",
       "      <td>35.0</td>\n",
       "      <td>27122.0</td>\n",
       "      <td>3</td>\n",
       "    </tr>\n",
       "    <tr>\n",
       "      <th>223</th>\n",
       "      <td>0.001126</td>\n",
       "      <td>21.585247</td>\n",
       "      <td>36.0</td>\n",
       "      <td>21914.0</td>\n",
       "      <td>5</td>\n",
       "    </tr>\n",
       "    <tr>\n",
       "      <th>224</th>\n",
       "      <td>0.003120</td>\n",
       "      <td>28.777800</td>\n",
       "      <td>36.0</td>\n",
       "      <td>25487.5</td>\n",
       "      <td>1</td>\n",
       "    </tr>\n",
       "    <tr>\n",
       "      <th>225</th>\n",
       "      <td>0.001401</td>\n",
       "      <td>19.618044</td>\n",
       "      <td>33.0</td>\n",
       "      <td>28510.0</td>\n",
       "      <td>2</td>\n",
       "    </tr>\n",
       "    <tr>\n",
       "      <th>226</th>\n",
       "      <td>0.000894</td>\n",
       "      <td>26.078396</td>\n",
       "      <td>33.5</td>\n",
       "      <td>20086.0</td>\n",
       "      <td>1</td>\n",
       "    </tr>\n",
       "    <tr>\n",
       "      <th>227</th>\n",
       "      <td>0.003144</td>\n",
       "      <td>26.205845</td>\n",
       "      <td>34.0</td>\n",
       "      <td>29263.0</td>\n",
       "      <td>1</td>\n",
       "    </tr>\n",
       "    <tr>\n",
       "      <th>228</th>\n",
       "      <td>0.002086</td>\n",
       "      <td>26.151235</td>\n",
       "      <td>32.0</td>\n",
       "      <td>21682.0</td>\n",
       "      <td>2</td>\n",
       "    </tr>\n",
       "    <tr>\n",
       "      <th>229</th>\n",
       "      <td>0.004442</td>\n",
       "      <td>27.626898</td>\n",
       "      <td>33.0</td>\n",
       "      <td>19357.0</td>\n",
       "      <td>3</td>\n",
       "    </tr>\n",
       "    <tr>\n",
       "      <th>230</th>\n",
       "      <td>0.004561</td>\n",
       "      <td>25.655586</td>\n",
       "      <td>37.0</td>\n",
       "      <td>47856.0</td>\n",
       "      <td>2</td>\n",
       "    </tr>\n",
       "    <tr>\n",
       "      <th>231</th>\n",
       "      <td>0.001444</td>\n",
       "      <td>27.135046</td>\n",
       "      <td>39.0</td>\n",
       "      <td>27478.0</td>\n",
       "      <td>4</td>\n",
       "    </tr>\n",
       "    <tr>\n",
       "      <th>232</th>\n",
       "      <td>0.005041</td>\n",
       "      <td>22.895529</td>\n",
       "      <td>30.0</td>\n",
       "      <td>13729.0</td>\n",
       "      <td>1</td>\n",
       "    </tr>\n",
       "    <tr>\n",
       "      <th>233</th>\n",
       "      <td>0.001706</td>\n",
       "      <td>26.488424</td>\n",
       "      <td>37.5</td>\n",
       "      <td>19072.5</td>\n",
       "      <td>1</td>\n",
       "    </tr>\n",
       "    <tr>\n",
       "      <th>234</th>\n",
       "      <td>0.000844</td>\n",
       "      <td>31.317467</td>\n",
       "      <td>34.0</td>\n",
       "      <td>18421.5</td>\n",
       "      <td>2</td>\n",
       "    </tr>\n",
       "    <tr>\n",
       "      <th>235</th>\n",
       "      <td>0.001941</td>\n",
       "      <td>29.200016</td>\n",
       "      <td>37.5</td>\n",
       "      <td>23137.5</td>\n",
       "      <td>3</td>\n",
       "    </tr>\n",
       "    <tr>\n",
       "      <th>236</th>\n",
       "      <td>0.002135</td>\n",
       "      <td>28.925262</td>\n",
       "      <td>34.0</td>\n",
       "      <td>17642.0</td>\n",
       "      <td>2</td>\n",
       "    </tr>\n",
       "    <tr>\n",
       "      <th>237</th>\n",
       "      <td>0.002739</td>\n",
       "      <td>24.573151</td>\n",
       "      <td>32.5</td>\n",
       "      <td>31547.5</td>\n",
       "      <td>2</td>\n",
       "    </tr>\n",
       "    <tr>\n",
       "      <th>238</th>\n",
       "      <td>0.002244</td>\n",
       "      <td>28.025379</td>\n",
       "      <td>36.5</td>\n",
       "      <td>43609.0</td>\n",
       "      <td>7</td>\n",
       "    </tr>\n",
       "    <tr>\n",
       "      <th>239</th>\n",
       "      <td>0.002485</td>\n",
       "      <td>25.848610</td>\n",
       "      <td>37.0</td>\n",
       "      <td>20142.0</td>\n",
       "      <td>2</td>\n",
       "    </tr>\n",
       "    <tr>\n",
       "      <th>240</th>\n",
       "      <td>0.002536</td>\n",
       "      <td>23.333494</td>\n",
       "      <td>35.0</td>\n",
       "      <td>26274.5</td>\n",
       "      <td>4</td>\n",
       "    </tr>\n",
       "    <tr>\n",
       "      <th>241</th>\n",
       "      <td>0.000863</td>\n",
       "      <td>18.908741</td>\n",
       "      <td>39.0</td>\n",
       "      <td>16123.0</td>\n",
       "      <td>1</td>\n",
       "    </tr>\n",
       "    <tr>\n",
       "      <th>242</th>\n",
       "      <td>0.002671</td>\n",
       "      <td>29.755869</td>\n",
       "      <td>34.0</td>\n",
       "      <td>22156.0</td>\n",
       "      <td>1</td>\n",
       "    </tr>\n",
       "    <tr>\n",
       "      <th>243</th>\n",
       "      <td>0.000689</td>\n",
       "      <td>27.767435</td>\n",
       "      <td>35.0</td>\n",
       "      <td>28918.0</td>\n",
       "      <td>1</td>\n",
       "    </tr>\n",
       "    <tr>\n",
       "      <th>245</th>\n",
       "      <td>0.001128</td>\n",
       "      <td>26.451145</td>\n",
       "      <td>37.0</td>\n",
       "      <td>30478.0</td>\n",
       "      <td>1</td>\n",
       "    </tr>\n",
       "    <tr>\n",
       "      <th>247</th>\n",
       "      <td>0.005672</td>\n",
       "      <td>23.793578</td>\n",
       "      <td>34.0</td>\n",
       "      <td>118379.0</td>\n",
       "      <td>109</td>\n",
       "    </tr>\n",
       "    <tr>\n",
       "      <th>248</th>\n",
       "      <td>0.003534</td>\n",
       "      <td>25.273258</td>\n",
       "      <td>38.0</td>\n",
       "      <td>99388.0</td>\n",
       "      <td>83</td>\n",
       "    </tr>\n",
       "  </tbody>\n",
       "</table>\n",
       "<p>247 rows × 5 columns</p>\n",
       "</div>"
      ],
      "text/plain": [
       "     sub_distances     safety   age    income  count\n",
       "0         0.006864  20.148173  44.0   20614.0      3\n",
       "1         0.001187  28.386656  38.5   17838.0      4\n",
       "2         0.001917  23.227493  32.5   76144.5     89\n",
       "3         0.002633  27.275317  39.5   19224.0      4\n",
       "4         0.001749  24.077947  33.0  115317.0     70\n",
       "5         0.010370  27.739248  39.0   12939.0      3\n",
       "6         0.006158  33.734429  42.0   33260.5      3\n",
       "7         0.001221  25.594175  31.0   96903.0     80\n",
       "8         0.003170  22.446960  46.0   62230.0      3\n",
       "9         0.001414  23.643079  39.0   30503.0     15\n",
       "10        0.002759  25.089731  45.0   79630.0     38\n",
       "11        0.002203  26.941747  28.0   78400.0     50\n",
       "12        0.002827  27.472875  38.5   23451.0     32\n",
       "13        0.001264  26.267737  33.5   25222.0    141\n",
       "14        0.009888  24.098167  38.5   18759.0      2\n",
       "15        0.001304  24.219644  35.0  187314.0    118\n",
       "16        0.004574  29.593717  40.0   26204.0      8\n",
       "17        0.006652  23.580598  33.0   78740.0     15\n",
       "18        0.007619  18.832508  40.0   14150.0      1\n",
       "19        0.007800  26.696217  38.0   36559.0      9\n",
       "20        0.006729  25.346976  39.0   54503.0     16\n",
       "21        0.004458  25.352120  49.0   36251.0      6\n",
       "22        0.005481  27.484612  35.0   24418.0     23\n",
       "23        0.002236  25.876020  44.0   23966.0     33\n",
       "24        0.002282  26.009567  32.0   58954.0    106\n",
       "25        0.003738  25.314629  39.0   43058.0     59\n",
       "26        0.001213  25.022734  30.5   49153.0     40\n",
       "27        0.005131  25.556614  35.0   36744.0    118\n",
       "28        0.001562  24.468694  34.5  114286.0    145\n",
       "29        0.002146  25.150588  35.0   44155.0     81\n",
       "..             ...        ...   ...       ...    ...\n",
       "217       0.003161  19.652639  35.0   17546.0      2\n",
       "218       0.002412  23.148342  31.0   17452.0      3\n",
       "219       0.001722  26.205299  35.0   21129.0      4\n",
       "220       0.003061  25.540718  37.0   28440.0      2\n",
       "221       0.001283  27.650692  33.0   30653.0      1\n",
       "222       0.002278  26.606409  35.0   27122.0      3\n",
       "223       0.001126  21.585247  36.0   21914.0      5\n",
       "224       0.003120  28.777800  36.0   25487.5      1\n",
       "225       0.001401  19.618044  33.0   28510.0      2\n",
       "226       0.000894  26.078396  33.5   20086.0      1\n",
       "227       0.003144  26.205845  34.0   29263.0      1\n",
       "228       0.002086  26.151235  32.0   21682.0      2\n",
       "229       0.004442  27.626898  33.0   19357.0      3\n",
       "230       0.004561  25.655586  37.0   47856.0      2\n",
       "231       0.001444  27.135046  39.0   27478.0      4\n",
       "232       0.005041  22.895529  30.0   13729.0      1\n",
       "233       0.001706  26.488424  37.5   19072.5      1\n",
       "234       0.000844  31.317467  34.0   18421.5      2\n",
       "235       0.001941  29.200016  37.5   23137.5      3\n",
       "236       0.002135  28.925262  34.0   17642.0      2\n",
       "237       0.002739  24.573151  32.5   31547.5      2\n",
       "238       0.002244  28.025379  36.5   43609.0      7\n",
       "239       0.002485  25.848610  37.0   20142.0      2\n",
       "240       0.002536  23.333494  35.0   26274.5      4\n",
       "241       0.000863  18.908741  39.0   16123.0      1\n",
       "242       0.002671  29.755869  34.0   22156.0      1\n",
       "243       0.000689  27.767435  35.0   28918.0      1\n",
       "245       0.001128  26.451145  37.0   30478.0      1\n",
       "247       0.005672  23.793578  34.0  118379.0    109\n",
       "248       0.003534  25.273258  38.0   99388.0     83\n",
       "\n",
       "[247 rows x 5 columns]"
      ]
     },
     "execution_count": 129,
     "metadata": {},
     "output_type": "execute_result"
    }
   ],
   "source": [
    "trp1 = trp.iloc[:,5:]\n",
    "trp1.dropna()"
   ]
  },
  {
   "cell_type": "code",
   "execution_count": 130,
   "metadata": {
    "collapsed": false
   },
   "outputs": [
    {
     "data": {
      "text/plain": [
       "(483, 12)"
      ]
     },
     "execution_count": 130,
     "metadata": {},
     "output_type": "execute_result"
    }
   ],
   "source": [
    "#get the ct that we need from ct_shape \n",
    "ct_shape_ct  = ct_shape[ct_shape.BoroCT2010.isin(ct)]\n",
    "ct_shape_ct.shape"
   ]
  },
  {
   "cell_type": "code",
   "execution_count": 132,
   "metadata": {
    "collapsed": false
   },
   "outputs": [],
   "source": [
    "final_2014_1_normalized_boroct = trp1.apply(lambda x: (x - np.mean(x)) / (np.max(x) - np.min(x)))"
   ]
  },
  {
   "cell_type": "code",
   "execution_count": 133,
   "metadata": {
    "collapsed": false
   },
   "outputs": [],
   "source": [
    "final_2014_1_normalized_boroct ['BoroCT2010'] = trp['BoroCT2010'].unique()\n",
    "final_2014_1_normalized_boroct ['count'] = df['count']"
   ]
  },
  {
   "cell_type": "code",
   "execution_count": 134,
   "metadata": {
    "collapsed": false
   },
   "outputs": [
    {
     "data": {
      "text/html": [
       "<div>\n",
       "<table border=\"1\" class=\"dataframe\">\n",
       "  <thead>\n",
       "    <tr style=\"text-align: right;\">\n",
       "      <th></th>\n",
       "      <th>sub_distances</th>\n",
       "      <th>safety</th>\n",
       "      <th>age</th>\n",
       "      <th>income</th>\n",
       "      <th>count</th>\n",
       "      <th>BoroCT2010</th>\n",
       "    </tr>\n",
       "  </thead>\n",
       "  <tbody>\n",
       "    <tr>\n",
       "      <th>0</th>\n",
       "      <td>0.383302</td>\n",
       "      <td>-0.244306</td>\n",
       "      <td>0.173695</td>\n",
       "      <td>-0.173234</td>\n",
       "      <td>3</td>\n",
       "      <td>1000202</td>\n",
       "    </tr>\n",
       "    <tr>\n",
       "      <th>1</th>\n",
       "      <td>-0.196666</td>\n",
       "      <td>0.161731</td>\n",
       "      <td>0.036195</td>\n",
       "      <td>-0.184946</td>\n",
       "      <td>4</td>\n",
       "      <td>1000600</td>\n",
       "    </tr>\n",
       "    <tr>\n",
       "      <th>2</th>\n",
       "      <td>-0.122058</td>\n",
       "      <td>-0.092540</td>\n",
       "      <td>-0.113805</td>\n",
       "      <td>0.061036</td>\n",
       "      <td>89</td>\n",
       "      <td>1000700</td>\n",
       "    </tr>\n",
       "    <tr>\n",
       "      <th>3</th>\n",
       "      <td>-0.048907</td>\n",
       "      <td>0.106958</td>\n",
       "      <td>0.061195</td>\n",
       "      <td>-0.179099</td>\n",
       "      <td>4</td>\n",
       "      <td>1000800</td>\n",
       "    </tr>\n",
       "    <tr>\n",
       "      <th>4</th>\n",
       "      <td>-0.139298</td>\n",
       "      <td>-0.050625</td>\n",
       "      <td>-0.101305</td>\n",
       "      <td>0.226296</td>\n",
       "      <td>70</td>\n",
       "      <td>1000900</td>\n",
       "    </tr>\n",
       "  </tbody>\n",
       "</table>\n",
       "</div>"
      ],
      "text/plain": [
       "   sub_distances    safety       age    income  count BoroCT2010\n",
       "0       0.383302 -0.244306  0.173695 -0.173234      3    1000202\n",
       "1      -0.196666  0.161731  0.036195 -0.184946      4    1000600\n",
       "2      -0.122058 -0.092540 -0.113805  0.061036     89    1000700\n",
       "3      -0.048907  0.106958  0.061195 -0.179099      4    1000800\n",
       "4      -0.139298 -0.050625 -0.101305  0.226296     70    1000900"
      ]
     },
     "execution_count": 134,
     "metadata": {},
     "output_type": "execute_result"
    }
   ],
   "source": [
    "final_2014_1_normalized_boroct.head()"
   ]
  },
  {
   "cell_type": "code",
   "execution_count": 135,
   "metadata": {
    "collapsed": false
   },
   "outputs": [
    {
     "data": {
      "text/plain": [
       "(2166, 12)"
      ]
     },
     "execution_count": 135,
     "metadata": {},
     "output_type": "execute_result"
    }
   ],
   "source": [
    "ct_shape.shape"
   ]
  },
  {
   "cell_type": "code",
   "execution_count": 136,
   "metadata": {
    "collapsed": false
   },
   "outputs": [],
   "source": [
    "ct_shape.index = range(0, 2166, 1)\n",
    "#reindexing"
   ]
  },
  {
   "cell_type": "code",
   "execution_count": 137,
   "metadata": {
    "collapsed": false
   },
   "outputs": [
    {
     "data": {
      "text/plain": [
       "(249, 6)"
      ]
     },
     "execution_count": 137,
     "metadata": {},
     "output_type": "execute_result"
    }
   ],
   "source": [
    "final_2014_1_normalized_boroct.shape"
   ]
  },
  {
   "cell_type": "code",
   "execution_count": 138,
   "metadata": {
    "collapsed": true
   },
   "outputs": [],
   "source": [
    "ct_shape_pop_ct2 = ct_shape.merge(final_2014_1_normalized_boroct, on = \"BoroCT2010\", how = \"outer\" )\n",
    "\n"
   ]
  },
  {
   "cell_type": "code",
   "execution_count": 139,
   "metadata": {
    "collapsed": false
   },
   "outputs": [
    {
     "data": {
      "text/plain": [
       "(2166, 17)"
      ]
     },
     "execution_count": 139,
     "metadata": {},
     "output_type": "execute_result"
    }
   ],
   "source": [
    "ct_shape_pop_ct2.shape"
   ]
  },
  {
   "cell_type": "code",
   "execution_count": 140,
   "metadata": {
    "collapsed": false
   },
   "outputs": [],
   "source": [
    "\n",
    "ct_shape_pop_ct2 = ct_shape_pop_ct2.fillna(0)"
   ]
  },
  {
   "cell_type": "code",
   "execution_count": 141,
   "metadata": {
    "collapsed": false
   },
   "outputs": [
    {
     "data": {
      "text/plain": [
       "geopandas.geodataframe.GeoDataFrame"
      ]
     },
     "execution_count": 141,
     "metadata": {},
     "output_type": "execute_result"
    }
   ],
   "source": [
    "ct_shape_pop_ct2.head(400)\n",
    "\n",
    "type(ct_shape_pop_ct2)"
   ]
  },
  {
   "cell_type": "code",
   "execution_count": 142,
   "metadata": {
    "collapsed": false
   },
   "outputs": [
    {
     "data": {
      "text/plain": [
       "4"
      ]
     },
     "execution_count": 142,
     "metadata": {},
     "output_type": "execute_result"
    }
   ],
   "source": [
    "2+2\n"
   ]
  },
  {
   "cell_type": "code",
   "execution_count": 143,
   "metadata": {
    "collapsed": false
   },
   "outputs": [
    {
     "name": "stderr",
     "output_type": "stream",
     "text": [
      "/opt/rh/anaconda/root/envs/PUI2016_Python2/lib/python2.7/site-packages/geopandas/plotting.py:225: FutureWarning: 'colormap' is deprecated, please use 'cmap' instead (for consistency with matplotlib)\n",
      "  \"(for consistency with matplotlib)\", FutureWarning)\n"
     ]
    },
    {
     "data": {
      "text/plain": [
       "<matplotlib.text.Text at 0x7f0ea62a36d0>"
      ]
     },
     "execution_count": 143,
     "metadata": {},
     "output_type": "execute_result"
    },
    {
     "data": {
      "image/png": "[encoded data removed]",
      "text/plain": [
       "<matplotlib.figure.Figure at 0x7f0ea6235c10>"
      ]
     },
     "metadata": {},
     "output_type": "display_data"
    }
   ],
   "source": [
    "f, ax = plt.subplots(figsize=(10,10))\n",
    "ax.get_xaxis().set_visible(False)\n",
    "ax.get_yaxis().set_visible(False)\n",
    "ct_shape_pop_ct2.plot(column= 'count',colormap='hot_r',alpha=1,linewidth=0.1,ax=ax)\n",
    "plt.title(\"Popularity of taxi\")"
   ]
  },
  {
   "cell_type": "code",
   "execution_count": 144,
   "metadata": {
    "collapsed": true
   },
   "outputs": [],
   "source": [
    "final_2014_1_normalized_boroct.to_csv('taxi_2014_1_data_boroct.csv')"
   ]
  },
  {
   "cell_type": "code",
   "execution_count": 142,
   "metadata": {
    "collapsed": true
   },
   "outputs": [],
   "source": [
    "from matplotlib.pyplot import hist"
   ]
  },
  {
   "cell_type": "code",
   "execution_count": 143,
   "metadata": {
    "collapsed": false
   },
   "outputs": [
    {
     "data": {
      "text/plain": [
       "(4548, 5)"
      ]
     },
     "execution_count": 143,
     "metadata": {},
     "output_type": "execute_result"
    }
   ],
   "source": [
    "final_2014_1.shape"
   ]
  },
  {
   "cell_type": "code",
   "execution_count": 144,
   "metadata": {
    "collapsed": false
   },
   "outputs": [],
   "source": [
    "point = final_2014_1"
   ]
  },
  {
   "cell_type": "code",
   "execution_count": 145,
   "metadata": {
    "collapsed": false
   },
   "outputs": [
    {
     "data": {
      "text/plain": [
       "(array([ 2107.,     0.,     0.,     0.,     0.,     0.,     0.,     0.,\n",
       "            0.,  2441.]),\n",
       " array([ 1. ,  1.3,  1.6,  1.9,  2.2,  2.5,  2.8,  3.1,  3.4,  3.7,  4. ]),\n",
       " <a list of 10 Patch objects>)"
      ]
     },
     "execution_count": 145,
     "metadata": {},
     "output_type": "execute_result"
    },
    {
     "data": {
      "image/png": "[encoded data removed]",
      "text/plain": [
       "<matplotlib.figure.Figure at 0x7fa02ab03b50>"
      ]
     },
     "metadata": {},
     "output_type": "display_data"
    }
   ],
   "source": [
    "hist(final_2014_1['count'])"
   ]
  }
 ],
 "metadata": {
  "anaconda-cloud": {},
  "kernelspec": {
   "display_name": "PUI2016_Python2",
   "language": "python",
   "name": "pui2016_python2"
  },
  "language_info": {
   "codemirror_mode": {
    "name": "ipython",
    "version": 2
   },
   "file_extension": ".py",
   "mimetype": "text/x-python",
   "name": "python",
   "nbconvert_exporter": "python",
   "pygments_lexer": "ipython2",
   "version": "2.7.12"
  }
 },
 "nbformat": 4,
 "nbformat_minor": 0
}
